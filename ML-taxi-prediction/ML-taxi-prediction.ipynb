{
 "cells": [
  {
   "cell_type": "markdown",
   "metadata": {},
   "source": [
    "#  Прогнозирование заказов такси"
   ]
  },
  {
   "cell_type": "markdown",
   "metadata": {},
   "source": [
    "**Цель проекта**\n",
    "\n",
    "Построить модель, которая будет прогнозировать количество заказов такси на следующий час. Значение метрики *RMSE* на тестовой выборке должно быть не больше 48."
   ]
  },
  {
   "cell_type": "markdown",
   "metadata": {},
   "source": [
    "**Описание проекта**\n",
    "\n",
    "Компания «Известное такси» собрала исторические данные о заказах такси в аэропортах. Чтобы привлекать больше водителей в период пиковой нагрузки, нужно спрогнозировать количество заказов такси на следующий час. "
   ]
  },
  {
   "cell_type": "markdown",
   "metadata": {
    "toc": true
   },
   "source": [
    "<h1>Содержание<span class=\"tocSkip\"></span></h1>\n",
    "<div class=\"toc\"><ul class=\"toc-item\"><li><span><a href=\"#Подготовка\" data-toc-modified-id=\"Подготовка-1\"><span class=\"toc-item-num\">1&nbsp;&nbsp;</span>Подготовка</a></span></li><li><span><a href=\"#Анализ\" data-toc-modified-id=\"Анализ-2\"><span class=\"toc-item-num\">2&nbsp;&nbsp;</span>Анализ</a></span></li><li><span><a href=\"#Обучение\" data-toc-modified-id=\"Обучение-3\"><span class=\"toc-item-num\">3&nbsp;&nbsp;</span>Обучение</a></span><ul class=\"toc-item\"><li><span><a href=\"#Catboost\" data-toc-modified-id=\"Catboost-3.1\"><span class=\"toc-item-num\">3.1&nbsp;&nbsp;</span>Catboost</a></span></li><li><span><a href=\"#Линейная-регрессия\" data-toc-modified-id=\"Линейная-регрессия-3.2\"><span class=\"toc-item-num\">3.2&nbsp;&nbsp;</span>Линейная регрессия</a></span></li><li><span><a href=\"#Случайный-лес\" data-toc-modified-id=\"Случайный-лес-3.3\"><span class=\"toc-item-num\">3.3&nbsp;&nbsp;</span>Случайный лес</a></span></li><li><span><a href=\"#ARIMA\" data-toc-modified-id=\"ARIMA-3.4\"><span class=\"toc-item-num\">3.4&nbsp;&nbsp;</span>ARIMA</a></span></li></ul></li><li><span><a href=\"#Тестирование\" data-toc-modified-id=\"Тестирование-4\"><span class=\"toc-item-num\">4&nbsp;&nbsp;</span>Тестирование</a></span></li><li><span><a href=\"#Чек-лист-проверки\" data-toc-modified-id=\"Чек-лист-проверки-5\"><span class=\"toc-item-num\">5&nbsp;&nbsp;</span>Чек-лист проверки</a></span></li></ul></div>"
   ]
  },
  {
   "cell_type": "markdown",
   "metadata": {},
   "source": [
    "## Подготовка"
   ]
  },
  {
   "cell_type": "code",
   "execution_count": 1,
   "metadata": {},
   "outputs": [],
   "source": [
    "import pandas as pd\n",
    "import numpy as np\n",
    "import matplotlib.pyplot as plt\n",
    "from statsmodels.tsa.seasonal import seasonal_decompose\n",
    "from statsmodels.tsa.arima_model import ARIMA\n",
    "from sklearn.model_selection import train_test_split, RandomizedSearchCV, TimeSeriesSplit\n",
    "from sklearn.metrics import mean_squared_error\n",
    "from sklearn.linear_model import LinearRegression\n",
    "from sklearn.ensemble import RandomForestRegressor\n",
    "from catboost import CatBoostRegressor\n",
    "import warnings"
   ]
  },
  {
   "cell_type": "code",
   "execution_count": 2,
   "metadata": {},
   "outputs": [],
   "source": [
    "warnings.filterwarnings(\"ignore\")"
   ]
  },
  {
   "cell_type": "markdown",
   "metadata": {},
   "source": [
    "Прочитаем данные, имеющиеся даты переведем в формат datetime, и сделаем дату индексом."
   ]
  },
  {
   "cell_type": "code",
   "execution_count": 3,
   "metadata": {},
   "outputs": [],
   "source": [
    "url = 'https://drive.google.com/file/d/1t24FTBiLcGqrleW52cZi-4WzpfadYCXv/view?usp=sharing'\n",
    "url_2 = 'https://drive.google.com/uc?id=' + url.split('/')[-2]"
   ]
  },
  {
   "cell_type": "code",
   "execution_count": 4,
   "metadata": {},
   "outputs": [],
   "source": [
    "df = pd.read_csv(url_2, parse_dates=[0], index_col=[0])"
   ]
  },
  {
   "cell_type": "code",
   "execution_count": 5,
   "metadata": {},
   "outputs": [
    {
     "data": {
      "text/html": [
       "<div>\n",
       "<style scoped>\n",
       "    .dataframe tbody tr th:only-of-type {\n",
       "        vertical-align: middle;\n",
       "    }\n",
       "\n",
       "    .dataframe tbody tr th {\n",
       "        vertical-align: top;\n",
       "    }\n",
       "\n",
       "    .dataframe thead th {\n",
       "        text-align: right;\n",
       "    }\n",
       "</style>\n",
       "<table border=\"1\" class=\"dataframe\">\n",
       "  <thead>\n",
       "    <tr style=\"text-align: right;\">\n",
       "      <th></th>\n",
       "      <th>num_orders</th>\n",
       "    </tr>\n",
       "    <tr>\n",
       "      <th>datetime</th>\n",
       "      <th></th>\n",
       "    </tr>\n",
       "  </thead>\n",
       "  <tbody>\n",
       "    <tr>\n",
       "      <th>2018-03-01 00:00:00</th>\n",
       "      <td>9</td>\n",
       "    </tr>\n",
       "    <tr>\n",
       "      <th>2018-03-01 00:10:00</th>\n",
       "      <td>14</td>\n",
       "    </tr>\n",
       "    <tr>\n",
       "      <th>2018-03-01 00:20:00</th>\n",
       "      <td>28</td>\n",
       "    </tr>\n",
       "    <tr>\n",
       "      <th>2018-03-01 00:30:00</th>\n",
       "      <td>20</td>\n",
       "    </tr>\n",
       "    <tr>\n",
       "      <th>2018-03-01 00:40:00</th>\n",
       "      <td>32</td>\n",
       "    </tr>\n",
       "  </tbody>\n",
       "</table>\n",
       "</div>"
      ],
      "text/plain": [
       "                     num_orders\n",
       "datetime                       \n",
       "2018-03-01 00:00:00           9\n",
       "2018-03-01 00:10:00          14\n",
       "2018-03-01 00:20:00          28\n",
       "2018-03-01 00:30:00          20\n",
       "2018-03-01 00:40:00          32"
      ]
     },
     "execution_count": 5,
     "metadata": {},
     "output_type": "execute_result"
    }
   ],
   "source": [
    "df.head()"
   ]
  },
  {
   "cell_type": "code",
   "execution_count": 6,
   "metadata": {},
   "outputs": [
    {
     "name": "stdout",
     "output_type": "stream",
     "text": [
      "<class 'pandas.core.frame.DataFrame'>\n",
      "DatetimeIndex: 26496 entries, 2018-03-01 00:00:00 to 2018-08-31 23:50:00\n",
      "Data columns (total 1 columns):\n",
      " #   Column      Non-Null Count  Dtype\n",
      "---  ------      --------------  -----\n",
      " 0   num_orders  26496 non-null  int64\n",
      "dtypes: int64(1)\n",
      "memory usage: 414.0 KB\n"
     ]
    }
   ],
   "source": [
    "df.info()"
   ]
  },
  {
   "cell_type": "markdown",
   "metadata": {},
   "source": [
    "В таблице представленные данные за период с 01 марта 2018 по 31 августа 2018 - за 6 месяцев весеннего и летнего периода. Текущий шаг фиксации данных - 10 минут. Однако по условию проекта исследование заказов такси необходимо провести за период 1 час. Поэтому проведем ресемплинг"
   ]
  },
  {
   "cell_type": "code",
   "execution_count": 7,
   "metadata": {},
   "outputs": [],
   "source": [
    "df = df.resample('1H').sum()"
   ]
  },
  {
   "cell_type": "code",
   "execution_count": 8,
   "metadata": {},
   "outputs": [
    {
     "data": {
      "text/html": [
       "<div>\n",
       "<style scoped>\n",
       "    .dataframe tbody tr th:only-of-type {\n",
       "        vertical-align: middle;\n",
       "    }\n",
       "\n",
       "    .dataframe tbody tr th {\n",
       "        vertical-align: top;\n",
       "    }\n",
       "\n",
       "    .dataframe thead th {\n",
       "        text-align: right;\n",
       "    }\n",
       "</style>\n",
       "<table border=\"1\" class=\"dataframe\">\n",
       "  <thead>\n",
       "    <tr style=\"text-align: right;\">\n",
       "      <th></th>\n",
       "      <th>num_orders</th>\n",
       "    </tr>\n",
       "    <tr>\n",
       "      <th>datetime</th>\n",
       "      <th></th>\n",
       "    </tr>\n",
       "  </thead>\n",
       "  <tbody>\n",
       "    <tr>\n",
       "      <th>2018-03-01 00:00:00</th>\n",
       "      <td>124</td>\n",
       "    </tr>\n",
       "    <tr>\n",
       "      <th>2018-03-01 01:00:00</th>\n",
       "      <td>85</td>\n",
       "    </tr>\n",
       "    <tr>\n",
       "      <th>2018-03-01 02:00:00</th>\n",
       "      <td>71</td>\n",
       "    </tr>\n",
       "    <tr>\n",
       "      <th>2018-03-01 03:00:00</th>\n",
       "      <td>66</td>\n",
       "    </tr>\n",
       "    <tr>\n",
       "      <th>2018-03-01 04:00:00</th>\n",
       "      <td>43</td>\n",
       "    </tr>\n",
       "  </tbody>\n",
       "</table>\n",
       "</div>"
      ],
      "text/plain": [
       "                     num_orders\n",
       "datetime                       \n",
       "2018-03-01 00:00:00         124\n",
       "2018-03-01 01:00:00          85\n",
       "2018-03-01 02:00:00          71\n",
       "2018-03-01 03:00:00          66\n",
       "2018-03-01 04:00:00          43"
      ]
     },
     "execution_count": 8,
     "metadata": {},
     "output_type": "execute_result"
    }
   ],
   "source": [
    "df.head()"
   ]
  },
  {
   "cell_type": "markdown",
   "metadata": {},
   "source": [
    "Теперь наши данные - это суммарное количество заказов такси в аэропорт в час. Можно риступить к анализу данных"
   ]
  },
  {
   "cell_type": "markdown",
   "metadata": {},
   "source": [
    "## Анализ"
   ]
  },
  {
   "cell_type": "code",
   "execution_count": 9,
   "metadata": {},
   "outputs": [],
   "source": [
    "# Зададим цвета будущих визуализаций\n",
    "basic_color = '#2A46F8'\n",
    "board_color = '#0BDA51'\n",
    "day_color = '#FFF6C7'\n",
    "evening_color = '#FFA474'\n",
    "night_color = '#9E75FF'\n",
    "morning_color = '#CDFEF4'"
   ]
  },
  {
   "cell_type": "markdown",
   "metadata": {},
   "source": [
    "Чтобы проанализировать как изменяется количество заказов со временем, а также выявить сезонные зависмости разобьем временной ряд на тренды и сезонные показатели"
   ]
  },
  {
   "cell_type": "code",
   "execution_count": 10,
   "metadata": {},
   "outputs": [],
   "source": [
    "decomposed_data = seasonal_decompose(df)"
   ]
  },
  {
   "cell_type": "code",
   "execution_count": 11,
   "metadata": {},
   "outputs": [
    {
     "data": {
      "image/png": "[encoded data removed]",
      "text/plain": [
       "<Figure size 864x360 with 1 Axes>"
      ]
     },
     "metadata": {
      "needs_background": "light"
     },
     "output_type": "display_data"
    }
   ],
   "source": [
    "plt.figure(figsize=(12, 5))\n",
    "decomposed_data.trend.plot(ax=plt.gca(), c=basic_color)\n",
    "plt.title('Тренды заказов такси из аэропорта')\n",
    "plt.show()"
   ]
  },
  {
   "cell_type": "markdown",
   "metadata": {},
   "source": [
    "График изменения количества заказов такси отражает, что в течение месяца есть существенные колебания количества необходимых машин. Однако, в общем смысле количестве заказов в конце периода (в конце августа) возрасло примерно до 155 машин, по сравнению с 55 машинами - в марте.\n",
    "\n",
    "Изучим есть ли каки-либо повторяющиеся колебания (сезонность)."
   ]
  },
  {
   "cell_type": "code",
   "execution_count": 12,
   "metadata": {},
   "outputs": [
    {
     "data": {
      "image/png": "[encoded data removed]",
      "text/plain": [
       "<Figure size 864x360 with 1 Axes>"
      ]
     },
     "metadata": {
      "needs_background": "light"
     },
     "output_type": "display_data"
    }
   ],
   "source": [
    "plt.figure(figsize=(12, 5))\n",
    "decomposed_data.seasonal['2018-06-01':'2018-06-07'].plot(ax=plt.gca(), c=basic_color)\n",
    "plt.title('Сезонность заказов такси в рамках 1 недели')\n",
    "plt.show()"
   ]
  },
  {
   "cell_type": "markdown",
   "metadata": {},
   "source": [
    "График заказов такси отражает, что в течение недели есть повторяемость по количеству такси, однако цикл повторения короче, чем неделя, изучим сезонность в рамках суток."
   ]
  },
  {
   "cell_type": "code",
   "execution_count": 13,
   "metadata": {},
   "outputs": [
    {
     "data": {
      "image/png": "[encoded data removed]",
      "text/plain": [
       "<Figure size 864x360 with 1 Axes>"
      ]
     },
     "metadata": {
      "needs_background": "light"
     },
     "output_type": "display_data"
    }
   ],
   "source": [
    "plt.figure(figsize=(12, 5))\n",
    "decomposed_data.seasonal['2018-06-01 00:00:00': '2018-06-03 00:00:00'].plot(ax=plt.gca(), c=basic_color)\n",
    "plt.title('Сезонность заказов такси в рамках 48 часов')\n",
    "plt.axvline('2018-06-01 12:00:00', c=board_color, alpha=0.4, ls='--')\n",
    "plt.axvline('2018-06-02 12:00:00', c=board_color, alpha=0.4, ls='--')\n",
    "plt.axvspan('2018-06-01 12:00:00', '2018-06-01 18:00:00', facecolor=day_color, alpha=0.4)\n",
    "plt.axvspan('2018-06-01 18:00:00', '2018-06-01 21:00:00', facecolor=evening_color, alpha=0.25)\n",
    "plt.axvspan('2018-06-01 21:00:00', '2018-06-02 06:00:00', facecolor=night_color, alpha=0.15)\n",
    "plt.axvspan('2018-06-02 06:00:00', '2018-06-02 12:00:00', facecolor=morning_color, alpha=0.3)\n",
    "plt.axhline(0, c=board_color, alpha=0.4, ls='--')\n",
    "plt.show()"
   ]
  },
  {
   "cell_type": "markdown",
   "metadata": {},
   "source": [
    "Для удобства чтения графика сезонности такси в течении суток, пунктиром были ограничены сутки, а цветами (желтый, оранжевый, фиолетовый, голубой) были отмечены части дня (день, вечер, ночь и утро соответственно).\n",
    "\n",
    "Есть очевидно повторяющаяся закономерность в течение суток. Так например максимальное количество машин вызывается в аэропорт в полночь(фактор полуночи повышает потребность в машинах на 60 единиц), на втором месте находятся пики в 16:00 и 02:00 - около 25 машин. \n",
    "\n",
    "Наименее активное время суток - промежуток времени между 04:00 и 08:00. Фактор раннего утра снижает потребность в такси на 40-60 машин. \n",
    "\n",
    "---\n",
    "Существует мнение, что потребность в такси выше в определенные дни недели, например в пятницу - люди прилетают на выходные в короткое путешествие или в понедельник - стремятся прилететь и успеть на работу, или в командировку к началу недели. \n",
    "\n",
    "Для того чтобы выявить такую зависимость (или опровергнуть обозначенное мнение), проведем ресемплинг данных как сумма заказов по дню - и разделим данные на тренды и сезоны"
   ]
  },
  {
   "cell_type": "code",
   "execution_count": 14,
   "metadata": {},
   "outputs": [],
   "source": [
    "df_day = df.copy()"
   ]
  },
  {
   "cell_type": "code",
   "execution_count": 15,
   "metadata": {},
   "outputs": [],
   "source": [
    "df_day = df_day.resample('1D').sum()"
   ]
  },
  {
   "cell_type": "code",
   "execution_count": 16,
   "metadata": {},
   "outputs": [],
   "source": [
    "df_day['day_of_week'] = df_day.index.dayofweek"
   ]
  },
  {
   "cell_type": "code",
   "execution_count": 17,
   "metadata": {},
   "outputs": [
    {
     "data": {
      "text/plain": [
       "<AxesSubplot:xlabel='datetime'>"
      ]
     },
     "execution_count": 17,
     "metadata": {},
     "output_type": "execute_result"
    },
    {
     "data": {
      "image/png": "[encoded data removed]",
      "text/plain": [
       "<Figure size 432x288 with 1 Axes>"
      ]
     },
     "metadata": {
      "needs_background": "light"
     },
     "output_type": "display_data"
    }
   ],
   "source": [
    "df_day['num_orders'].plot()"
   ]
  },
  {
   "cell_type": "markdown",
   "metadata": {},
   "source": [
    "Тренды неизменны - и по дням и по часам."
   ]
  },
  {
   "cell_type": "code",
   "execution_count": 18,
   "metadata": {},
   "outputs": [],
   "source": [
    "decomposed_day = seasonal_decompose(df_day['num_orders'])"
   ]
  },
  {
   "cell_type": "code",
   "execution_count": 19,
   "metadata": {},
   "outputs": [
    {
     "data": {
      "image/png": "[encoded data removed]",
      "text/plain": [
       "<Figure size 864x360 with 1 Axes>"
      ]
     },
     "metadata": {
      "needs_background": "light"
     },
     "output_type": "display_data"
    }
   ],
   "source": [
    "plt.figure(figsize=(12, 5))\n",
    "decomposed_day.seasonal['2018-06-07':'2018-06-21'].plot(ax=plt.gca(), c=basic_color)\n",
    "plt.title('Сезонность заказов такси в рамках 1 недели')\n",
    "plt.axvline('2018-06-11', c=board_color, alpha=0.4, ls='--')\n",
    "plt.axvline('2018-06-17', c=board_color, alpha=0.4, ls='--')\n",
    "plt.axhline(0, c=board_color, alpha=0.4, ls='--')\n",
    "plt.show()"
   ]
  },
  {
   "cell_type": "markdown",
   "metadata": {},
   "source": [
    "На графике сезонности заказов такси в рамках 1 недели пунктирными линиями ограничена 1 неделя: с понедельника до воскресенья.\n",
    "\n",
    "Очевидно, что день недели также влияет на потребность в такси: так например фактор понедельника увеличивает потребность в такси на 150 единиц в день, а фактор вторника - снижает потребность более, чем на 150 единиц.\n",
    "\n",
    "---\n",
    "Выявленные факторы сезонности будут выделены в качестве признаков для построения будущей модели прогнозирования."
   ]
  },
  {
   "cell_type": "markdown",
   "metadata": {},
   "source": [
    "Чтобы проанализировать сколько же в среднем мащин нужно каждый час - построим График потребности в такси методом скользящего среднего. Скользящее среднее рассчитано в рамках 24 часов, чтобы сгладить сезонность в рамках суток."
   ]
  },
  {
   "cell_type": "code",
   "execution_count": 20,
   "metadata": {},
   "outputs": [],
   "source": [
    "df['rolling_mean'] = df.rolling(24).mean()"
   ]
  },
  {
   "cell_type": "code",
   "execution_count": 21,
   "metadata": {},
   "outputs": [
    {
     "data": {
      "image/png": "[encoded data removed]",
      "text/plain": [
       "<Figure size 1008x504 with 1 Axes>"
      ]
     },
     "metadata": {
      "needs_background": "light"
     },
     "output_type": "display_data"
    }
   ],
   "source": [
    "plt.figure(figsize=(14, 7))\n",
    "df.plot(ax=plt.gca())\n",
    "plt.title('Потребность в такси методом скользящего среднего')\n",
    "plt.show()"
   ]
  },
  {
   "cell_type": "markdown",
   "metadata": {},
   "source": [
    "График отражает что в марте в среднем было необходимо 60-80 такси в час, в летний период (особенно в августе) потребность в такси в аэропорту возрасла в среднем до 170 машин в час (не учитывая аномально высокие потребности в такси 15 и 20 августа)."
   ]
  },
  {
   "cell_type": "code",
   "execution_count": 22,
   "metadata": {},
   "outputs": [
    {
     "data": {
      "text/plain": [
       "count    4393.000000\n",
       "mean       84.276083\n",
       "std        26.335199\n",
       "min        42.375000\n",
       "25%        63.666667\n",
       "50%        79.708333\n",
       "75%        99.833333\n",
       "max       176.916667\n",
       "Name: rolling_mean, dtype: float64"
      ]
     },
     "execution_count": 22,
     "metadata": {},
     "output_type": "execute_result"
    }
   ],
   "source": [
    "df['rolling_mean'].describe()"
   ]
  },
  {
   "cell_type": "markdown",
   "metadata": {},
   "source": [
    "Статистический метод аналитики подтверждает данные отраженные на графике: так например, медианное значение средней потребности за 6 месяцев составляло 80 машин, максимальное среднее - составило 177 машин (очевидно, эта цифра была в августе) - когда люди возвращаются из семейнх отпусков чтобы успеть приготовить детей к школе."
   ]
  },
  {
   "cell_type": "markdown",
   "metadata": {},
   "source": [
    "## Обучение"
   ]
  },
  {
   "cell_type": "markdown",
   "metadata": {},
   "source": [
    "Создадим признаки для дальнейшего обучения модели. Выделим день месяца, день недели (чтобы учесть выявленную сезонность внутри недели), час (учесть сезонность внутри суток), а также добавим предыдущия значения - смещения до 6 часов (чтобы учесть направления трендов), а также скользящее среднее по 24 часам (также учесть возрастающие тренды)"
   ]
  },
  {
   "cell_type": "code",
   "execution_count": 23,
   "metadata": {},
   "outputs": [],
   "source": [
    "df['day'] = df.index.day"
   ]
  },
  {
   "cell_type": "code",
   "execution_count": 24,
   "metadata": {},
   "outputs": [],
   "source": [
    "df['dayofweek'] = df.index.dayofweek"
   ]
  },
  {
   "cell_type": "code",
   "execution_count": 25,
   "metadata": {},
   "outputs": [],
   "source": [
    "df['hour'] = df.index.hour"
   ]
  },
  {
   "cell_type": "code",
   "execution_count": 26,
   "metadata": {},
   "outputs": [],
   "source": [
    "for lag in range (1, 7):\n",
    "    df['lag_{}'.format(lag)] = df['num_orders'].shift(lag)"
   ]
  },
  {
   "cell_type": "code",
   "execution_count": 27,
   "metadata": {},
   "outputs": [],
   "source": [
    "df['rolling_mean'] = df['num_orders'].shift().rolling(24).mean()"
   ]
  },
  {
   "cell_type": "code",
   "execution_count": 28,
   "metadata": {
    "scrolled": true
   },
   "outputs": [
    {
     "data": {
      "text/html": [
       "<div>\n",
       "<style scoped>\n",
       "    .dataframe tbody tr th:only-of-type {\n",
       "        vertical-align: middle;\n",
       "    }\n",
       "\n",
       "    .dataframe tbody tr th {\n",
       "        vertical-align: top;\n",
       "    }\n",
       "\n",
       "    .dataframe thead th {\n",
       "        text-align: right;\n",
       "    }\n",
       "</style>\n",
       "<table border=\"1\" class=\"dataframe\">\n",
       "  <thead>\n",
       "    <tr style=\"text-align: right;\">\n",
       "      <th></th>\n",
       "      <th>num_orders</th>\n",
       "      <th>rolling_mean</th>\n",
       "      <th>day</th>\n",
       "      <th>dayofweek</th>\n",
       "      <th>hour</th>\n",
       "      <th>lag_1</th>\n",
       "      <th>lag_2</th>\n",
       "      <th>lag_3</th>\n",
       "      <th>lag_4</th>\n",
       "      <th>lag_5</th>\n",
       "      <th>lag_6</th>\n",
       "    </tr>\n",
       "    <tr>\n",
       "      <th>datetime</th>\n",
       "      <th></th>\n",
       "      <th></th>\n",
       "      <th></th>\n",
       "      <th></th>\n",
       "      <th></th>\n",
       "      <th></th>\n",
       "      <th></th>\n",
       "      <th></th>\n",
       "      <th></th>\n",
       "      <th></th>\n",
       "      <th></th>\n",
       "    </tr>\n",
       "  </thead>\n",
       "  <tbody>\n",
       "    <tr>\n",
       "      <th>2018-03-01 00:00:00</th>\n",
       "      <td>124</td>\n",
       "      <td>NaN</td>\n",
       "      <td>1</td>\n",
       "      <td>3</td>\n",
       "      <td>0</td>\n",
       "      <td>NaN</td>\n",
       "      <td>NaN</td>\n",
       "      <td>NaN</td>\n",
       "      <td>NaN</td>\n",
       "      <td>NaN</td>\n",
       "      <td>NaN</td>\n",
       "    </tr>\n",
       "    <tr>\n",
       "      <th>2018-03-01 01:00:00</th>\n",
       "      <td>85</td>\n",
       "      <td>NaN</td>\n",
       "      <td>1</td>\n",
       "      <td>3</td>\n",
       "      <td>1</td>\n",
       "      <td>124.0</td>\n",
       "      <td>NaN</td>\n",
       "      <td>NaN</td>\n",
       "      <td>NaN</td>\n",
       "      <td>NaN</td>\n",
       "      <td>NaN</td>\n",
       "    </tr>\n",
       "    <tr>\n",
       "      <th>2018-03-01 02:00:00</th>\n",
       "      <td>71</td>\n",
       "      <td>NaN</td>\n",
       "      <td>1</td>\n",
       "      <td>3</td>\n",
       "      <td>2</td>\n",
       "      <td>85.0</td>\n",
       "      <td>124.0</td>\n",
       "      <td>NaN</td>\n",
       "      <td>NaN</td>\n",
       "      <td>NaN</td>\n",
       "      <td>NaN</td>\n",
       "    </tr>\n",
       "    <tr>\n",
       "      <th>2018-03-01 03:00:00</th>\n",
       "      <td>66</td>\n",
       "      <td>NaN</td>\n",
       "      <td>1</td>\n",
       "      <td>3</td>\n",
       "      <td>3</td>\n",
       "      <td>71.0</td>\n",
       "      <td>85.0</td>\n",
       "      <td>124.0</td>\n",
       "      <td>NaN</td>\n",
       "      <td>NaN</td>\n",
       "      <td>NaN</td>\n",
       "    </tr>\n",
       "    <tr>\n",
       "      <th>2018-03-01 04:00:00</th>\n",
       "      <td>43</td>\n",
       "      <td>NaN</td>\n",
       "      <td>1</td>\n",
       "      <td>3</td>\n",
       "      <td>4</td>\n",
       "      <td>66.0</td>\n",
       "      <td>71.0</td>\n",
       "      <td>85.0</td>\n",
       "      <td>124.0</td>\n",
       "      <td>NaN</td>\n",
       "      <td>NaN</td>\n",
       "    </tr>\n",
       "    <tr>\n",
       "      <th>2018-03-01 05:00:00</th>\n",
       "      <td>6</td>\n",
       "      <td>NaN</td>\n",
       "      <td>1</td>\n",
       "      <td>3</td>\n",
       "      <td>5</td>\n",
       "      <td>43.0</td>\n",
       "      <td>66.0</td>\n",
       "      <td>71.0</td>\n",
       "      <td>85.0</td>\n",
       "      <td>124.0</td>\n",
       "      <td>NaN</td>\n",
       "    </tr>\n",
       "    <tr>\n",
       "      <th>2018-03-01 06:00:00</th>\n",
       "      <td>12</td>\n",
       "      <td>NaN</td>\n",
       "      <td>1</td>\n",
       "      <td>3</td>\n",
       "      <td>6</td>\n",
       "      <td>6.0</td>\n",
       "      <td>43.0</td>\n",
       "      <td>66.0</td>\n",
       "      <td>71.0</td>\n",
       "      <td>85.0</td>\n",
       "      <td>124.0</td>\n",
       "    </tr>\n",
       "    <tr>\n",
       "      <th>2018-03-01 07:00:00</th>\n",
       "      <td>15</td>\n",
       "      <td>NaN</td>\n",
       "      <td>1</td>\n",
       "      <td>3</td>\n",
       "      <td>7</td>\n",
       "      <td>12.0</td>\n",
       "      <td>6.0</td>\n",
       "      <td>43.0</td>\n",
       "      <td>66.0</td>\n",
       "      <td>71.0</td>\n",
       "      <td>85.0</td>\n",
       "    </tr>\n",
       "    <tr>\n",
       "      <th>2018-03-01 08:00:00</th>\n",
       "      <td>34</td>\n",
       "      <td>NaN</td>\n",
       "      <td>1</td>\n",
       "      <td>3</td>\n",
       "      <td>8</td>\n",
       "      <td>15.0</td>\n",
       "      <td>12.0</td>\n",
       "      <td>6.0</td>\n",
       "      <td>43.0</td>\n",
       "      <td>66.0</td>\n",
       "      <td>71.0</td>\n",
       "    </tr>\n",
       "    <tr>\n",
       "      <th>2018-03-01 09:00:00</th>\n",
       "      <td>69</td>\n",
       "      <td>NaN</td>\n",
       "      <td>1</td>\n",
       "      <td>3</td>\n",
       "      <td>9</td>\n",
       "      <td>34.0</td>\n",
       "      <td>15.0</td>\n",
       "      <td>12.0</td>\n",
       "      <td>6.0</td>\n",
       "      <td>43.0</td>\n",
       "      <td>66.0</td>\n",
       "    </tr>\n",
       "    <tr>\n",
       "      <th>2018-03-01 10:00:00</th>\n",
       "      <td>64</td>\n",
       "      <td>NaN</td>\n",
       "      <td>1</td>\n",
       "      <td>3</td>\n",
       "      <td>10</td>\n",
       "      <td>69.0</td>\n",
       "      <td>34.0</td>\n",
       "      <td>15.0</td>\n",
       "      <td>12.0</td>\n",
       "      <td>6.0</td>\n",
       "      <td>43.0</td>\n",
       "    </tr>\n",
       "    <tr>\n",
       "      <th>2018-03-01 11:00:00</th>\n",
       "      <td>96</td>\n",
       "      <td>NaN</td>\n",
       "      <td>1</td>\n",
       "      <td>3</td>\n",
       "      <td>11</td>\n",
       "      <td>64.0</td>\n",
       "      <td>69.0</td>\n",
       "      <td>34.0</td>\n",
       "      <td>15.0</td>\n",
       "      <td>12.0</td>\n",
       "      <td>6.0</td>\n",
       "    </tr>\n",
       "    <tr>\n",
       "      <th>2018-03-01 12:00:00</th>\n",
       "      <td>30</td>\n",
       "      <td>NaN</td>\n",
       "      <td>1</td>\n",
       "      <td>3</td>\n",
       "      <td>12</td>\n",
       "      <td>96.0</td>\n",
       "      <td>64.0</td>\n",
       "      <td>69.0</td>\n",
       "      <td>34.0</td>\n",
       "      <td>15.0</td>\n",
       "      <td>12.0</td>\n",
       "    </tr>\n",
       "    <tr>\n",
       "      <th>2018-03-01 13:00:00</th>\n",
       "      <td>32</td>\n",
       "      <td>NaN</td>\n",
       "      <td>1</td>\n",
       "      <td>3</td>\n",
       "      <td>13</td>\n",
       "      <td>30.0</td>\n",
       "      <td>96.0</td>\n",
       "      <td>64.0</td>\n",
       "      <td>69.0</td>\n",
       "      <td>34.0</td>\n",
       "      <td>15.0</td>\n",
       "    </tr>\n",
       "    <tr>\n",
       "      <th>2018-03-01 14:00:00</th>\n",
       "      <td>48</td>\n",
       "      <td>NaN</td>\n",
       "      <td>1</td>\n",
       "      <td>3</td>\n",
       "      <td>14</td>\n",
       "      <td>32.0</td>\n",
       "      <td>30.0</td>\n",
       "      <td>96.0</td>\n",
       "      <td>64.0</td>\n",
       "      <td>69.0</td>\n",
       "      <td>34.0</td>\n",
       "    </tr>\n",
       "    <tr>\n",
       "      <th>2018-03-01 15:00:00</th>\n",
       "      <td>66</td>\n",
       "      <td>NaN</td>\n",
       "      <td>1</td>\n",
       "      <td>3</td>\n",
       "      <td>15</td>\n",
       "      <td>48.0</td>\n",
       "      <td>32.0</td>\n",
       "      <td>30.0</td>\n",
       "      <td>96.0</td>\n",
       "      <td>64.0</td>\n",
       "      <td>69.0</td>\n",
       "    </tr>\n",
       "    <tr>\n",
       "      <th>2018-03-01 16:00:00</th>\n",
       "      <td>43</td>\n",
       "      <td>NaN</td>\n",
       "      <td>1</td>\n",
       "      <td>3</td>\n",
       "      <td>16</td>\n",
       "      <td>66.0</td>\n",
       "      <td>48.0</td>\n",
       "      <td>32.0</td>\n",
       "      <td>30.0</td>\n",
       "      <td>96.0</td>\n",
       "      <td>64.0</td>\n",
       "    </tr>\n",
       "    <tr>\n",
       "      <th>2018-03-01 17:00:00</th>\n",
       "      <td>44</td>\n",
       "      <td>NaN</td>\n",
       "      <td>1</td>\n",
       "      <td>3</td>\n",
       "      <td>17</td>\n",
       "      <td>43.0</td>\n",
       "      <td>66.0</td>\n",
       "      <td>48.0</td>\n",
       "      <td>32.0</td>\n",
       "      <td>30.0</td>\n",
       "      <td>96.0</td>\n",
       "    </tr>\n",
       "    <tr>\n",
       "      <th>2018-03-01 18:00:00</th>\n",
       "      <td>73</td>\n",
       "      <td>NaN</td>\n",
       "      <td>1</td>\n",
       "      <td>3</td>\n",
       "      <td>18</td>\n",
       "      <td>44.0</td>\n",
       "      <td>43.0</td>\n",
       "      <td>66.0</td>\n",
       "      <td>48.0</td>\n",
       "      <td>32.0</td>\n",
       "      <td>30.0</td>\n",
       "    </tr>\n",
       "    <tr>\n",
       "      <th>2018-03-01 19:00:00</th>\n",
       "      <td>45</td>\n",
       "      <td>NaN</td>\n",
       "      <td>1</td>\n",
       "      <td>3</td>\n",
       "      <td>19</td>\n",
       "      <td>73.0</td>\n",
       "      <td>44.0</td>\n",
       "      <td>43.0</td>\n",
       "      <td>66.0</td>\n",
       "      <td>48.0</td>\n",
       "      <td>32.0</td>\n",
       "    </tr>\n",
       "    <tr>\n",
       "      <th>2018-03-01 20:00:00</th>\n",
       "      <td>61</td>\n",
       "      <td>NaN</td>\n",
       "      <td>1</td>\n",
       "      <td>3</td>\n",
       "      <td>20</td>\n",
       "      <td>45.0</td>\n",
       "      <td>73.0</td>\n",
       "      <td>44.0</td>\n",
       "      <td>43.0</td>\n",
       "      <td>66.0</td>\n",
       "      <td>48.0</td>\n",
       "    </tr>\n",
       "    <tr>\n",
       "      <th>2018-03-01 21:00:00</th>\n",
       "      <td>66</td>\n",
       "      <td>NaN</td>\n",
       "      <td>1</td>\n",
       "      <td>3</td>\n",
       "      <td>21</td>\n",
       "      <td>61.0</td>\n",
       "      <td>45.0</td>\n",
       "      <td>73.0</td>\n",
       "      <td>44.0</td>\n",
       "      <td>43.0</td>\n",
       "      <td>66.0</td>\n",
       "    </tr>\n",
       "    <tr>\n",
       "      <th>2018-03-01 22:00:00</th>\n",
       "      <td>113</td>\n",
       "      <td>NaN</td>\n",
       "      <td>1</td>\n",
       "      <td>3</td>\n",
       "      <td>22</td>\n",
       "      <td>66.0</td>\n",
       "      <td>61.0</td>\n",
       "      <td>45.0</td>\n",
       "      <td>73.0</td>\n",
       "      <td>44.0</td>\n",
       "      <td>43.0</td>\n",
       "    </tr>\n",
       "    <tr>\n",
       "      <th>2018-03-01 23:00:00</th>\n",
       "      <td>58</td>\n",
       "      <td>NaN</td>\n",
       "      <td>1</td>\n",
       "      <td>3</td>\n",
       "      <td>23</td>\n",
       "      <td>113.0</td>\n",
       "      <td>66.0</td>\n",
       "      <td>61.0</td>\n",
       "      <td>45.0</td>\n",
       "      <td>73.0</td>\n",
       "      <td>44.0</td>\n",
       "    </tr>\n",
       "    <tr>\n",
       "      <th>2018-03-02 00:00:00</th>\n",
       "      <td>90</td>\n",
       "      <td>56.833333</td>\n",
       "      <td>2</td>\n",
       "      <td>4</td>\n",
       "      <td>0</td>\n",
       "      <td>58.0</td>\n",
       "      <td>113.0</td>\n",
       "      <td>66.0</td>\n",
       "      <td>61.0</td>\n",
       "      <td>45.0</td>\n",
       "      <td>73.0</td>\n",
       "    </tr>\n",
       "  </tbody>\n",
       "</table>\n",
       "</div>"
      ],
      "text/plain": [
       "                     num_orders  rolling_mean  day  dayofweek  hour  lag_1  \\\n",
       "datetime                                                                     \n",
       "2018-03-01 00:00:00         124           NaN    1          3     0    NaN   \n",
       "2018-03-01 01:00:00          85           NaN    1          3     1  124.0   \n",
       "2018-03-01 02:00:00          71           NaN    1          3     2   85.0   \n",
       "2018-03-01 03:00:00          66           NaN    1          3     3   71.0   \n",
       "2018-03-01 04:00:00          43           NaN    1          3     4   66.0   \n",
       "2018-03-01 05:00:00           6           NaN    1          3     5   43.0   \n",
       "2018-03-01 06:00:00          12           NaN    1          3     6    6.0   \n",
       "2018-03-01 07:00:00          15           NaN    1          3     7   12.0   \n",
       "2018-03-01 08:00:00          34           NaN    1          3     8   15.0   \n",
       "2018-03-01 09:00:00          69           NaN    1          3     9   34.0   \n",
       "2018-03-01 10:00:00          64           NaN    1          3    10   69.0   \n",
       "2018-03-01 11:00:00          96           NaN    1          3    11   64.0   \n",
       "2018-03-01 12:00:00          30           NaN    1          3    12   96.0   \n",
       "2018-03-01 13:00:00          32           NaN    1          3    13   30.0   \n",
       "2018-03-01 14:00:00          48           NaN    1          3    14   32.0   \n",
       "2018-03-01 15:00:00          66           NaN    1          3    15   48.0   \n",
       "2018-03-01 16:00:00          43           NaN    1          3    16   66.0   \n",
       "2018-03-01 17:00:00          44           NaN    1          3    17   43.0   \n",
       "2018-03-01 18:00:00          73           NaN    1          3    18   44.0   \n",
       "2018-03-01 19:00:00          45           NaN    1          3    19   73.0   \n",
       "2018-03-01 20:00:00          61           NaN    1          3    20   45.0   \n",
       "2018-03-01 21:00:00          66           NaN    1          3    21   61.0   \n",
       "2018-03-01 22:00:00         113           NaN    1          3    22   66.0   \n",
       "2018-03-01 23:00:00          58           NaN    1          3    23  113.0   \n",
       "2018-03-02 00:00:00          90     56.833333    2          4     0   58.0   \n",
       "\n",
       "                     lag_2  lag_3  lag_4  lag_5  lag_6  \n",
       "datetime                                                \n",
       "2018-03-01 00:00:00    NaN    NaN    NaN    NaN    NaN  \n",
       "2018-03-01 01:00:00    NaN    NaN    NaN    NaN    NaN  \n",
       "2018-03-01 02:00:00  124.0    NaN    NaN    NaN    NaN  \n",
       "2018-03-01 03:00:00   85.0  124.0    NaN    NaN    NaN  \n",
       "2018-03-01 04:00:00   71.0   85.0  124.0    NaN    NaN  \n",
       "2018-03-01 05:00:00   66.0   71.0   85.0  124.0    NaN  \n",
       "2018-03-01 06:00:00   43.0   66.0   71.0   85.0  124.0  \n",
       "2018-03-01 07:00:00    6.0   43.0   66.0   71.0   85.0  \n",
       "2018-03-01 08:00:00   12.0    6.0   43.0   66.0   71.0  \n",
       "2018-03-01 09:00:00   15.0   12.0    6.0   43.0   66.0  \n",
       "2018-03-01 10:00:00   34.0   15.0   12.0    6.0   43.0  \n",
       "2018-03-01 11:00:00   69.0   34.0   15.0   12.0    6.0  \n",
       "2018-03-01 12:00:00   64.0   69.0   34.0   15.0   12.0  \n",
       "2018-03-01 13:00:00   96.0   64.0   69.0   34.0   15.0  \n",
       "2018-03-01 14:00:00   30.0   96.0   64.0   69.0   34.0  \n",
       "2018-03-01 15:00:00   32.0   30.0   96.0   64.0   69.0  \n",
       "2018-03-01 16:00:00   48.0   32.0   30.0   96.0   64.0  \n",
       "2018-03-01 17:00:00   66.0   48.0   32.0   30.0   96.0  \n",
       "2018-03-01 18:00:00   43.0   66.0   48.0   32.0   30.0  \n",
       "2018-03-01 19:00:00   44.0   43.0   66.0   48.0   32.0  \n",
       "2018-03-01 20:00:00   73.0   44.0   43.0   66.0   48.0  \n",
       "2018-03-01 21:00:00   45.0   73.0   44.0   43.0   66.0  \n",
       "2018-03-01 22:00:00   61.0   45.0   73.0   44.0   43.0  \n",
       "2018-03-01 23:00:00   66.0   61.0   45.0   73.0   44.0  \n",
       "2018-03-02 00:00:00  113.0   66.0   61.0   45.0   73.0  "
      ]
     },
     "execution_count": 28,
     "metadata": {},
     "output_type": "execute_result"
    }
   ],
   "source": [
    "df.head(25)"
   ]
  },
  {
   "cell_type": "code",
   "execution_count": 29,
   "metadata": {},
   "outputs": [],
   "source": [
    "df = df.dropna()"
   ]
  },
  {
   "cell_type": "markdown",
   "metadata": {},
   "source": [
    "Разобьем данные на выборки. По условию проекта тестовая выборка составляет 10% от всей выборки"
   ]
  },
  {
   "cell_type": "code",
   "execution_count": 30,
   "metadata": {},
   "outputs": [],
   "source": [
    "features = df.drop('num_orders', axis=1)\n",
    "target = df['num_orders']"
   ]
  },
  {
   "cell_type": "code",
   "execution_count": 31,
   "metadata": {},
   "outputs": [],
   "source": [
    "features_train, features_test, target_train, target_test = train_test_split(features, target, shuffle=False, test_size=0.1)"
   ]
  },
  {
   "cell_type": "markdown",
   "metadata": {},
   "source": [
    "Построим несколько моделей машинного обучения, чтобы выбрать ту, которая покажет наименьшее значение RMSE на тестовой выборке (но не более 48)."
   ]
  },
  {
   "cell_type": "markdown",
   "metadata": {},
   "source": [
    "### Catboost"
   ]
  },
  {
   "cell_type": "markdown",
   "metadata": {},
   "source": [
    "Так как признаки день недели, день, час цикличны - то закодируем эти признаки через синус- косинус сектора."
   ]
  },
  {
   "cell_type": "code",
   "execution_count": 32,
   "metadata": {},
   "outputs": [],
   "source": [
    "features_train['day_sin'] = np.sin(features_train.day * (2. * np.pi / 30))\n",
    "features_test['day_sin'] = np.sin(features_test.day * (2. * np.pi / 30))\n",
    "features_train['day_cos'] = np.cos(features_train.day * (2. * np.pi / 30))\n",
    "features_test['day_cos'] = np.cos(features_test.day * (2. * np.pi / 30))\n",
    "features_train = features_train.drop('day', axis=1)\n",
    "features_test = features_test.drop('day', axis=1)"
   ]
  },
  {
   "cell_type": "code",
   "execution_count": 33,
   "metadata": {},
   "outputs": [],
   "source": [
    "features_train['dayofweek_sin'] = np.sin(features_train.dayofweek * (2. * np.pi / 7))\n",
    "features_test['dayofweek_sin'] = np.sin(features_test.dayofweek * (2. * np.pi / 7))\n",
    "features_train['dayofweek_cos'] = np.cos(features_train.dayofweek * (2. * np.pi / 7))\n",
    "features_test['dayofweek_cos'] = np.cos(features_test.dayofweek * (2. * np.pi / 7))\n",
    "features_train = features_train.drop('dayofweek', axis=1)\n",
    "features_test = features_test.drop('dayofweek', axis=1)"
   ]
  },
  {
   "cell_type": "code",
   "execution_count": 34,
   "metadata": {},
   "outputs": [],
   "source": [
    "features_train['hour_sin'] = np.sin(features_train.hour * (2. * np.pi / 24))\n",
    "features_test['hour_sin'] = np.sin(features_test.hour * (2. * np.pi / 24))\n",
    "features_train['hour_cos'] = np.cos(features_train.hour * (2. * np.pi / 24))\n",
    "features_test['hour_cos'] = np.cos(features_test.hour * (2. * np.pi / 24))\n",
    "features_train = features_train.drop('hour', axis=1)\n",
    "features_test = features_test.drop('hour', axis=1)"
   ]
  },
  {
   "cell_type": "code",
   "execution_count": 35,
   "metadata": {},
   "outputs": [
    {
     "data": {
      "text/html": [
       "<div>\n",
       "<style scoped>\n",
       "    .dataframe tbody tr th:only-of-type {\n",
       "        vertical-align: middle;\n",
       "    }\n",
       "\n",
       "    .dataframe tbody tr th {\n",
       "        vertical-align: top;\n",
       "    }\n",
       "\n",
       "    .dataframe thead th {\n",
       "        text-align: right;\n",
       "    }\n",
       "</style>\n",
       "<table border=\"1\" class=\"dataframe\">\n",
       "  <thead>\n",
       "    <tr style=\"text-align: right;\">\n",
       "      <th></th>\n",
       "      <th>rolling_mean</th>\n",
       "      <th>lag_1</th>\n",
       "      <th>lag_2</th>\n",
       "      <th>lag_3</th>\n",
       "      <th>lag_4</th>\n",
       "      <th>lag_5</th>\n",
       "      <th>lag_6</th>\n",
       "      <th>day_sin</th>\n",
       "      <th>day_cos</th>\n",
       "      <th>dayofweek_sin</th>\n",
       "      <th>dayofweek_cos</th>\n",
       "      <th>hour_sin</th>\n",
       "      <th>hour_cos</th>\n",
       "    </tr>\n",
       "    <tr>\n",
       "      <th>datetime</th>\n",
       "      <th></th>\n",
       "      <th></th>\n",
       "      <th></th>\n",
       "      <th></th>\n",
       "      <th></th>\n",
       "      <th></th>\n",
       "      <th></th>\n",
       "      <th></th>\n",
       "      <th></th>\n",
       "      <th></th>\n",
       "      <th></th>\n",
       "      <th></th>\n",
       "      <th></th>\n",
       "    </tr>\n",
       "  </thead>\n",
       "  <tbody>\n",
       "    <tr>\n",
       "      <th>2018-03-02 00:00:00</th>\n",
       "      <td>56.833333</td>\n",
       "      <td>58.0</td>\n",
       "      <td>113.0</td>\n",
       "      <td>66.0</td>\n",
       "      <td>61.0</td>\n",
       "      <td>45.0</td>\n",
       "      <td>73.0</td>\n",
       "      <td>0.406737</td>\n",
       "      <td>0.913545</td>\n",
       "      <td>-0.433884</td>\n",
       "      <td>-0.900969</td>\n",
       "      <td>0.000000</td>\n",
       "      <td>1.000000</td>\n",
       "    </tr>\n",
       "    <tr>\n",
       "      <th>2018-03-02 01:00:00</th>\n",
       "      <td>55.416667</td>\n",
       "      <td>90.0</td>\n",
       "      <td>58.0</td>\n",
       "      <td>113.0</td>\n",
       "      <td>66.0</td>\n",
       "      <td>61.0</td>\n",
       "      <td>45.0</td>\n",
       "      <td>0.406737</td>\n",
       "      <td>0.913545</td>\n",
       "      <td>-0.433884</td>\n",
       "      <td>-0.900969</td>\n",
       "      <td>0.258819</td>\n",
       "      <td>0.965926</td>\n",
       "    </tr>\n",
       "    <tr>\n",
       "      <th>2018-03-02 02:00:00</th>\n",
       "      <td>56.875000</td>\n",
       "      <td>120.0</td>\n",
       "      <td>90.0</td>\n",
       "      <td>58.0</td>\n",
       "      <td>113.0</td>\n",
       "      <td>66.0</td>\n",
       "      <td>61.0</td>\n",
       "      <td>0.406737</td>\n",
       "      <td>0.913545</td>\n",
       "      <td>-0.433884</td>\n",
       "      <td>-0.900969</td>\n",
       "      <td>0.500000</td>\n",
       "      <td>0.866025</td>\n",
       "    </tr>\n",
       "    <tr>\n",
       "      <th>2018-03-02 03:00:00</th>\n",
       "      <td>57.041667</td>\n",
       "      <td>75.0</td>\n",
       "      <td>120.0</td>\n",
       "      <td>90.0</td>\n",
       "      <td>58.0</td>\n",
       "      <td>113.0</td>\n",
       "      <td>66.0</td>\n",
       "      <td>0.406737</td>\n",
       "      <td>0.913545</td>\n",
       "      <td>-0.433884</td>\n",
       "      <td>-0.900969</td>\n",
       "      <td>0.707107</td>\n",
       "      <td>0.707107</td>\n",
       "    </tr>\n",
       "    <tr>\n",
       "      <th>2018-03-02 04:00:00</th>\n",
       "      <td>56.958333</td>\n",
       "      <td>64.0</td>\n",
       "      <td>75.0</td>\n",
       "      <td>120.0</td>\n",
       "      <td>90.0</td>\n",
       "      <td>58.0</td>\n",
       "      <td>113.0</td>\n",
       "      <td>0.406737</td>\n",
       "      <td>0.913545</td>\n",
       "      <td>-0.433884</td>\n",
       "      <td>-0.900969</td>\n",
       "      <td>0.866025</td>\n",
       "      <td>0.500000</td>\n",
       "    </tr>\n",
       "  </tbody>\n",
       "</table>\n",
       "</div>"
      ],
      "text/plain": [
       "                     rolling_mean  lag_1  lag_2  lag_3  lag_4  lag_5  lag_6  \\\n",
       "datetime                                                                      \n",
       "2018-03-02 00:00:00     56.833333   58.0  113.0   66.0   61.0   45.0   73.0   \n",
       "2018-03-02 01:00:00     55.416667   90.0   58.0  113.0   66.0   61.0   45.0   \n",
       "2018-03-02 02:00:00     56.875000  120.0   90.0   58.0  113.0   66.0   61.0   \n",
       "2018-03-02 03:00:00     57.041667   75.0  120.0   90.0   58.0  113.0   66.0   \n",
       "2018-03-02 04:00:00     56.958333   64.0   75.0  120.0   90.0   58.0  113.0   \n",
       "\n",
       "                      day_sin   day_cos  dayofweek_sin  dayofweek_cos  \\\n",
       "datetime                                                                \n",
       "2018-03-02 00:00:00  0.406737  0.913545      -0.433884      -0.900969   \n",
       "2018-03-02 01:00:00  0.406737  0.913545      -0.433884      -0.900969   \n",
       "2018-03-02 02:00:00  0.406737  0.913545      -0.433884      -0.900969   \n",
       "2018-03-02 03:00:00  0.406737  0.913545      -0.433884      -0.900969   \n",
       "2018-03-02 04:00:00  0.406737  0.913545      -0.433884      -0.900969   \n",
       "\n",
       "                     hour_sin  hour_cos  \n",
       "datetime                                 \n",
       "2018-03-02 00:00:00  0.000000  1.000000  \n",
       "2018-03-02 01:00:00  0.258819  0.965926  \n",
       "2018-03-02 02:00:00  0.500000  0.866025  \n",
       "2018-03-02 03:00:00  0.707107  0.707107  \n",
       "2018-03-02 04:00:00  0.866025  0.500000  "
      ]
     },
     "execution_count": 35,
     "metadata": {},
     "output_type": "execute_result"
    }
   ],
   "source": [
    "features_train.head()"
   ]
  },
  {
   "cell_type": "code",
   "execution_count": 36,
   "metadata": {},
   "outputs": [],
   "source": [
    "cb = CatBoostRegressor(loss_function='RMSE', verbose=100, iterations=2000, learning_rate=0.5, depth=8, early_stopping_rounds=3)"
   ]
  },
  {
   "cell_type": "code",
   "execution_count": 37,
   "metadata": {},
   "outputs": [
    {
     "name": "stdout",
     "output_type": "stream",
     "text": [
      "0:\tlearn: 30.1460326\ttotal: 107ms\tremaining: 3m 33s\n",
      "100:\tlearn: 9.1706710\ttotal: 1.36s\tremaining: 25.5s\n",
      "200:\tlearn: 4.5882672\ttotal: 2.62s\tremaining: 23.5s\n",
      "300:\tlearn: 2.4597862\ttotal: 3.89s\tremaining: 22s\n",
      "400:\tlearn: 1.3657155\ttotal: 5.15s\tremaining: 20.6s\n",
      "500:\tlearn: 0.7472353\ttotal: 6.46s\tremaining: 19.3s\n",
      "600:\tlearn: 0.4152683\ttotal: 7.76s\tremaining: 18.1s\n",
      "700:\tlearn: 0.2406633\ttotal: 9.05s\tremaining: 16.8s\n",
      "800:\tlearn: 0.1383294\ttotal: 10.3s\tremaining: 15.5s\n",
      "900:\tlearn: 0.0777287\ttotal: 11.6s\tremaining: 14.1s\n",
      "1000:\tlearn: 0.0442059\ttotal: 12.8s\tremaining: 12.8s\n",
      "1100:\tlearn: 0.0265617\ttotal: 14.1s\tremaining: 11.5s\n",
      "1200:\tlearn: 0.0156664\ttotal: 15.3s\tremaining: 10.2s\n",
      "1300:\tlearn: 0.0090909\ttotal: 16.5s\tremaining: 8.88s\n",
      "1400:\tlearn: 0.0051697\ttotal: 17.8s\tremaining: 7.59s\n",
      "1500:\tlearn: 0.0030103\ttotal: 19.1s\tremaining: 6.36s\n",
      "1600:\tlearn: 0.0017265\ttotal: 20.4s\tremaining: 5.08s\n",
      "1700:\tlearn: 0.0009969\ttotal: 21.6s\tremaining: 3.79s\n",
      "1800:\tlearn: 0.0005777\ttotal: 22.8s\tremaining: 2.52s\n",
      "1900:\tlearn: 0.0003467\ttotal: 24.1s\tremaining: 1.25s\n",
      "1999:\tlearn: 0.0002038\ttotal: 25.3s\tremaining: 0us\n",
      "Wall time: 26 s\n"
     ]
    },
    {
     "data": {
      "text/plain": [
       "<catboost.core.CatBoostRegressor at 0x147ba8a9b50>"
      ]
     },
     "execution_count": 37,
     "metadata": {},
     "output_type": "execute_result"
    }
   ],
   "source": [
    "%%time\n",
    "cb.fit(features_train, target_train)"
   ]
  },
  {
   "cell_type": "code",
   "execution_count": 38,
   "metadata": {},
   "outputs": [],
   "source": [
    "predictions_test_cb = cb.predict(features_test)"
   ]
  },
  {
   "cell_type": "code",
   "execution_count": 39,
   "metadata": {},
   "outputs": [
    {
     "data": {
      "text/plain": [
       "43.77102944257101"
      ]
     },
     "execution_count": 39,
     "metadata": {},
     "output_type": "execute_result"
    }
   ],
   "source": [
    "rmse_cb = mean_squared_error(target_test, predictions_test_cb)**0.5\n",
    "rmse_cb"
   ]
  },
  {
   "cell_type": "markdown",
   "metadata": {},
   "source": [
    "**Catboost** показал предсказание с **RMSE = 44.9**"
   ]
  },
  {
   "cell_type": "markdown",
   "metadata": {},
   "source": [
    "### Линейная регрессия"
   ]
  },
  {
   "cell_type": "code",
   "execution_count": 40,
   "metadata": {},
   "outputs": [
    {
     "data": {
      "text/plain": [
       "LinearRegression()"
      ]
     },
     "execution_count": 40,
     "metadata": {},
     "output_type": "execute_result"
    }
   ],
   "source": [
    "model = LinearRegression()\n",
    "model.fit(features_train, target_train)"
   ]
  },
  {
   "cell_type": "code",
   "execution_count": 41,
   "metadata": {},
   "outputs": [],
   "source": [
    "predictions_test_lr = model.predict(features_test)"
   ]
  },
  {
   "cell_type": "code",
   "execution_count": 42,
   "metadata": {},
   "outputs": [
    {
     "data": {
      "text/plain": [
       "48.6870301974211"
      ]
     },
     "execution_count": 42,
     "metadata": {},
     "output_type": "execute_result"
    }
   ],
   "source": [
    "rmse_lr = mean_squared_error(target_test, predictions_test_lr)**0.5\n",
    "rmse_lr"
   ]
  },
  {
   "cell_type": "markdown",
   "metadata": {},
   "source": [
    "Методом линейной регрессии разработана модель с **RMSE = 48.6** на тестовой выборке, что очевидно хуже, чем результат Catboost, и выше, чем условия проекта."
   ]
  },
  {
   "cell_type": "markdown",
   "metadata": {},
   "source": [
    "### Случайный лес"
   ]
  },
  {
   "cell_type": "code",
   "execution_count": 43,
   "metadata": {},
   "outputs": [],
   "source": [
    "random_grid = {'n_estimators':[10, 17, 25],\n",
    "               'max_depth':[5, 9, 20],\n",
    "               'bootstrap':[True, False],\n",
    "               'min_samples_leaf':[1, 5]\n",
    "              }"
   ]
  },
  {
   "cell_type": "code",
   "execution_count": 44,
   "metadata": {},
   "outputs": [],
   "source": [
    "forest_model = RandomForestRegressor(random_state=42)"
   ]
  },
  {
   "cell_type": "code",
   "execution_count": 45,
   "metadata": {},
   "outputs": [],
   "source": [
    "forest_random = RandomizedSearchCV(estimator = forest_model, param_distributions = random_grid, n_iter = 36, \n",
    "                                   cv = TimeSeriesSplit(n_splits=8), verbose=2, random_state=42, n_jobs = -1)"
   ]
  },
  {
   "cell_type": "code",
   "execution_count": 46,
   "metadata": {},
   "outputs": [
    {
     "name": "stdout",
     "output_type": "stream",
     "text": [
      "Fitting 8 folds for each of 36 candidates, totalling 288 fits\n"
     ]
    },
    {
     "name": "stderr",
     "output_type": "stream",
     "text": [
      "[Parallel(n_jobs=-1)]: Using backend LokyBackend with 4 concurrent workers.\n",
      "[Parallel(n_jobs=-1)]: Done  33 tasks      | elapsed:    7.0s\n",
      "[Parallel(n_jobs=-1)]: Done 154 tasks      | elapsed:   21.3s\n",
      "[Parallel(n_jobs=-1)]: Done 288 out of 288 | elapsed:   43.0s finished\n"
     ]
    },
    {
     "data": {
      "text/plain": [
       "RandomizedSearchCV(cv=TimeSeriesSplit(max_train_size=None, n_splits=8),\n",
       "                   estimator=RandomForestRegressor(random_state=42), n_iter=36,\n",
       "                   n_jobs=-1,\n",
       "                   param_distributions={'bootstrap': [True, False],\n",
       "                                        'max_depth': [5, 9, 20],\n",
       "                                        'min_samples_leaf': [1, 5],\n",
       "                                        'n_estimators': [10, 17, 25]},\n",
       "                   random_state=42, verbose=2)"
      ]
     },
     "execution_count": 46,
     "metadata": {},
     "output_type": "execute_result"
    }
   ],
   "source": [
    "forest_random.fit(features_train, target_train)"
   ]
  },
  {
   "cell_type": "code",
   "execution_count": 47,
   "metadata": {},
   "outputs": [
    {
     "data": {
      "text/plain": [
       "{'n_estimators': 25, 'min_samples_leaf': 5, 'max_depth': 20, 'bootstrap': True}"
      ]
     },
     "execution_count": 47,
     "metadata": {},
     "output_type": "execute_result"
    }
   ],
   "source": [
    "forest_random.best_params_"
   ]
  },
  {
   "cell_type": "code",
   "execution_count": 48,
   "metadata": {},
   "outputs": [],
   "source": [
    "predictions_test_forest = forest_random.predict(features_test)"
   ]
  },
  {
   "cell_type": "code",
   "execution_count": 49,
   "metadata": {},
   "outputs": [
    {
     "data": {
      "text/plain": [
       "43.527166928311864"
      ]
     },
     "execution_count": 49,
     "metadata": {},
     "output_type": "execute_result"
    }
   ],
   "source": [
    "rmse_forest = mean_squared_error(target_test, predictions_test_forest)**0.5\n",
    "rmse_forest"
   ]
  },
  {
   "cell_type": "markdown",
   "metadata": {},
   "source": [
    "Случайный лес показал неплохой **RMSE = 43.5** на тестовой выборке, и это немного лучше, чем результат Catboost."
   ]
  },
  {
   "cell_type": "markdown",
   "metadata": {},
   "source": [
    "### ARIMA"
   ]
  },
  {
   "cell_type": "code",
   "execution_count": 50,
   "metadata": {},
   "outputs": [],
   "source": [
    "model_arima = ARIMA(target_train, order=(6,1,3))"
   ]
  },
  {
   "cell_type": "code",
   "execution_count": 51,
   "metadata": {},
   "outputs": [],
   "source": [
    "model_arima_fit = model_arima.fit(disp=0)"
   ]
  },
  {
   "cell_type": "code",
   "execution_count": 52,
   "metadata": {},
   "outputs": [],
   "source": [
    "predictions_arima = []\n",
    "for i in range(len(target_test)):\n",
    "    output = model_arima_fit.forecast()\n",
    "    predictions_arima.append(output[0])"
   ]
  },
  {
   "cell_type": "code",
   "execution_count": 53,
   "metadata": {},
   "outputs": [
    {
     "data": {
      "text/plain": [
       "58.958683463338176"
      ]
     },
     "execution_count": 53,
     "metadata": {},
     "output_type": "execute_result"
    }
   ],
   "source": [
    "rmse_arima = mean_squared_error(target_test, predictions_arima)**0.5\n",
    "rmse_arima"
   ]
  },
  {
   "cell_type": "markdown",
   "metadata": {},
   "source": [
    "Построенная в качестве эксперимента модель ARIMA показала RMSE = 58.9, что сильно выше, чем ограничения в проекте."
   ]
  },
  {
   "cell_type": "markdown",
   "metadata": {},
   "source": [
    "Подбор параметров для ARIMA оказался очень времязатратным."
   ]
  },
  {
   "cell_type": "markdown",
   "metadata": {},
   "source": [
    "**Общий вывод**\n",
    "Наилучший показатель RMSE = 44 удалось достигнуть, построив модели на основе CatBoost и Случайный лес с подбором параметров через кросс-валидацию. В дальнейшем будем проверять CatBoost"
   ]
  },
  {
   "cell_type": "markdown",
   "metadata": {},
   "source": [
    "## Тестирование"
   ]
  },
  {
   "cell_type": "markdown",
   "metadata": {},
   "source": [
    "Так как все построенные ранее модели уже рассчитали RMSE на тестовой выборке, в качестве тестирования проверим выбранную модель на адекватность. "
   ]
  },
  {
   "cell_type": "code",
   "execution_count": 54,
   "metadata": {},
   "outputs": [],
   "source": [
    "predictions_cb = cb.predict(features_test)"
   ]
  },
  {
   "cell_type": "markdown",
   "metadata": {},
   "source": [
    "Представим, что модель предсказывает константу - медианное значение обучающей выборки. рассчитаем RMSE константной модели"
   ]
  },
  {
   "cell_type": "code",
   "execution_count": 55,
   "metadata": {},
   "outputs": [],
   "source": [
    "predictions_constant = np.ones(target_test.shape[0]) * target_train.median()"
   ]
  },
  {
   "cell_type": "code",
   "execution_count": 56,
   "metadata": {},
   "outputs": [
    {
     "data": {
      "text/plain": [
       "87.21093811714634"
      ]
     },
     "execution_count": 56,
     "metadata": {},
     "output_type": "execute_result"
    }
   ],
   "source": [
    "rmse_constant = mean_squared_error(target_test, predictions_constant)**0.5\n",
    "rmse_constant"
   ]
  },
  {
   "cell_type": "markdown",
   "metadata": {},
   "source": [
    "RMSE константной модели составило 87.2, что очевидно хуже, чем точность нашей модели. Наша модель работает более адекватно, чем просто предсказание медианы\n",
    "\n",
    "---"
   ]
  },
  {
   "cell_type": "markdown",
   "metadata": {},
   "source": [
    "Если же предложить нашей модели предсказывать значения по предыдущему часу:"
   ]
  },
  {
   "cell_type": "code",
   "execution_count": 57,
   "metadata": {},
   "outputs": [],
   "source": [
    "predictions_cb_shift = target_test.shift(fill_value=0)"
   ]
  },
  {
   "cell_type": "code",
   "execution_count": 58,
   "metadata": {},
   "outputs": [
    {
     "data": {
      "text/plain": [
       "59.262187085711055"
      ]
     },
     "execution_count": 58,
     "metadata": {},
     "output_type": "execute_result"
    }
   ],
   "source": [
    "rmse_shift = mean_squared_error(target_test, predictions_cb_shift)**0.5\n",
    "rmse_shift"
   ]
  },
  {
   "cell_type": "markdown",
   "metadata": {},
   "source": [
    "RMSE такой модели составляет 59.3 - что значительно выше условий проекта, и выше чем показатель нашей модели."
   ]
  }
 ],
 "metadata": {
  "ExecuteTimeLog": [
   {
    "duration": 771,
    "start_time": "2021-07-15T17:51:01.603Z"
   },
   {
    "duration": 319,
    "start_time": "2021-07-16T05:06:21.872Z"
   },
   {
    "duration": 713,
    "start_time": "2021-07-16T05:06:31.691Z"
   },
   {
    "duration": 41,
    "start_time": "2021-07-16T05:06:32.407Z"
   },
   {
    "duration": 18,
    "start_time": "2021-07-16T05:06:32.451Z"
   },
   {
    "duration": 46,
    "start_time": "2021-07-16T05:08:00.143Z"
   },
   {
    "duration": 10,
    "start_time": "2021-07-16T05:08:00.702Z"
   },
   {
    "duration": 44,
    "start_time": "2021-07-16T05:08:31.404Z"
   },
   {
    "duration": 9,
    "start_time": "2021-07-16T05:08:32.013Z"
   },
   {
    "duration": 8,
    "start_time": "2021-07-16T05:14:25.959Z"
   },
   {
    "duration": 14,
    "start_time": "2021-07-16T05:20:46.807Z"
   },
   {
    "duration": 11,
    "start_time": "2021-07-16T05:20:55.749Z"
   },
   {
    "duration": 524,
    "start_time": "2021-07-16T05:25:21.117Z"
   },
   {
    "duration": 463,
    "start_time": "2021-07-16T05:27:34.758Z"
   },
   {
    "duration": 11,
    "start_time": "2021-07-16T05:28:26.477Z"
   },
   {
    "duration": 5,
    "start_time": "2021-07-16T05:29:26.967Z"
   },
   {
    "duration": 1405,
    "start_time": "2021-07-16T05:40:17.279Z"
   },
   {
    "duration": 1638,
    "start_time": "2021-07-16T05:40:26.047Z"
   },
   {
    "duration": 1632,
    "start_time": "2021-07-16T05:40:43.858Z"
   },
   {
    "duration": 1931,
    "start_time": "2021-07-16T05:44:10.616Z"
   },
   {
    "duration": 1988,
    "start_time": "2021-07-16T05:44:44.936Z"
   },
   {
    "duration": 1681,
    "start_time": "2021-07-16T05:47:25.978Z"
   },
   {
    "duration": 1833,
    "start_time": "2021-07-16T05:47:49.509Z"
   },
   {
    "duration": 507,
    "start_time": "2021-07-16T05:53:03.659Z"
   },
   {
    "duration": 494,
    "start_time": "2021-07-16T05:53:48.849Z"
   },
   {
    "duration": 339,
    "start_time": "2021-07-16T05:55:25.291Z"
   },
   {
    "duration": 361,
    "start_time": "2021-07-16T05:56:09.100Z"
   },
   {
    "duration": 508,
    "start_time": "2021-07-16T05:58:19.890Z"
   },
   {
    "duration": 517,
    "start_time": "2021-07-16T05:58:40.697Z"
   },
   {
    "duration": 462,
    "start_time": "2021-07-16T05:59:29.484Z"
   },
   {
    "duration": 497,
    "start_time": "2021-07-16T05:59:36.615Z"
   },
   {
    "duration": 486,
    "start_time": "2021-07-16T06:00:04.335Z"
   },
   {
    "duration": 507,
    "start_time": "2021-07-16T06:01:14.671Z"
   },
   {
    "duration": 419,
    "start_time": "2021-07-16T06:01:38.764Z"
   },
   {
    "duration": 418,
    "start_time": "2021-07-16T06:01:56.099Z"
   },
   {
    "duration": 480,
    "start_time": "2021-07-16T06:02:28.600Z"
   },
   {
    "duration": 4,
    "start_time": "2021-07-16T06:02:49.177Z"
   },
   {
    "duration": 402,
    "start_time": "2021-07-16T06:02:57.590Z"
   },
   {
    "duration": 574,
    "start_time": "2021-07-16T06:03:06.320Z"
   },
   {
    "duration": 418,
    "start_time": "2021-07-16T06:03:17.824Z"
   },
   {
    "duration": 517,
    "start_time": "2021-07-16T06:03:28.097Z"
   },
   {
    "duration": 3,
    "start_time": "2021-07-16T06:04:35.046Z"
   },
   {
    "duration": 486,
    "start_time": "2021-07-16T06:04:49.345Z"
   },
   {
    "duration": 486,
    "start_time": "2021-07-16T06:04:58.345Z"
   },
   {
    "duration": 683,
    "start_time": "2021-07-16T06:05:06.896Z"
   },
   {
    "duration": 533,
    "start_time": "2021-07-16T06:05:22.202Z"
   },
   {
    "duration": 5,
    "start_time": "2021-07-16T06:34:13.198Z"
   },
   {
    "duration": 123,
    "start_time": "2021-07-16T06:34:26.997Z"
   },
   {
    "duration": 500,
    "start_time": "2021-07-16T06:34:36.817Z"
   },
   {
    "duration": 603,
    "start_time": "2021-07-16T06:34:46.600Z"
   },
   {
    "duration": 482,
    "start_time": "2021-07-16T06:34:58.977Z"
   },
   {
    "duration": 4,
    "start_time": "2021-07-16T06:36:16.814Z"
   },
   {
    "duration": 471,
    "start_time": "2021-07-16T06:36:27.563Z"
   },
   {
    "duration": 516,
    "start_time": "2021-07-16T06:36:40.360Z"
   },
   {
    "duration": 4,
    "start_time": "2021-07-16T06:37:07.892Z"
   },
   {
    "duration": 519,
    "start_time": "2021-07-16T06:37:46.331Z"
   },
   {
    "duration": 4,
    "start_time": "2021-07-16T06:38:38.834Z"
   },
   {
    "duration": 531,
    "start_time": "2021-07-16T06:39:22.182Z"
   },
   {
    "duration": 497,
    "start_time": "2021-07-16T06:39:32.277Z"
   },
   {
    "duration": 608,
    "start_time": "2021-07-16T06:39:39.638Z"
   },
   {
    "duration": 4,
    "start_time": "2021-07-16T06:43:45.912Z"
   },
   {
    "duration": 12,
    "start_time": "2021-07-16T06:44:12.239Z"
   },
   {
    "duration": 300,
    "start_time": "2021-07-16T06:45:00.989Z"
   },
   {
    "duration": 273,
    "start_time": "2021-07-16T06:45:16.395Z"
   },
   {
    "duration": 11,
    "start_time": "2021-07-16T06:45:49.179Z"
   },
   {
    "duration": 317,
    "start_time": "2021-07-16T06:45:50.700Z"
   },
   {
    "duration": 17,
    "start_time": "2021-07-16T06:46:24.251Z"
   },
   {
    "duration": 4,
    "start_time": "2021-07-16T06:46:51.620Z"
   },
   {
    "duration": 19,
    "start_time": "2021-07-16T06:46:56.019Z"
   },
   {
    "duration": 362,
    "start_time": "2021-07-16T06:47:33.094Z"
   },
   {
    "duration": 272,
    "start_time": "2021-07-16T06:48:24.492Z"
   },
   {
    "duration": 284,
    "start_time": "2021-07-16T06:48:32.852Z"
   },
   {
    "duration": 560,
    "start_time": "2021-07-16T06:50:34.596Z"
   },
   {
    "duration": 526,
    "start_time": "2021-07-16T07:03:43.505Z"
   },
   {
    "duration": 4,
    "start_time": "2021-07-16T07:05:46.910Z"
   },
   {
    "duration": 11,
    "start_time": "2021-07-16T07:06:08.331Z"
   },
   {
    "duration": 402,
    "start_time": "2021-07-16T07:06:21.262Z"
   },
   {
    "duration": 7,
    "start_time": "2021-07-16T07:07:20.486Z"
   },
   {
    "duration": 608,
    "start_time": "2021-07-16T07:07:54.048Z"
   },
   {
    "duration": 331,
    "start_time": "2021-07-16T07:08:28.097Z"
   },
   {
    "duration": 375,
    "start_time": "2021-07-16T07:08:39.284Z"
   },
   {
    "duration": 454,
    "start_time": "2021-07-16T07:09:55.827Z"
   },
   {
    "duration": 266,
    "start_time": "2021-07-16T07:10:48.716Z"
   },
   {
    "duration": 6,
    "start_time": "2021-07-16T07:10:54.797Z"
   },
   {
    "duration": 498,
    "start_time": "2021-07-16T07:10:57.135Z"
   },
   {
    "duration": 494,
    "start_time": "2021-07-16T07:11:16.232Z"
   },
   {
    "duration": 7,
    "start_time": "2021-07-16T07:11:20.990Z"
   },
   {
    "duration": 463,
    "start_time": "2021-07-16T07:11:32.268Z"
   },
   {
    "duration": 283,
    "start_time": "2021-07-16T07:15:09.009Z"
   },
   {
    "duration": 440,
    "start_time": "2021-07-16T07:15:15.630Z"
   },
   {
    "duration": 6,
    "start_time": "2021-07-16T07:17:49.129Z"
   },
   {
    "duration": 417,
    "start_time": "2021-07-16T07:17:49.968Z"
   },
   {
    "duration": 619,
    "start_time": "2021-07-16T07:19:25.286Z"
   },
   {
    "duration": 568,
    "start_time": "2021-07-16T07:19:47.794Z"
   },
   {
    "duration": 566,
    "start_time": "2021-07-16T07:20:00.922Z"
   },
   {
    "duration": 533,
    "start_time": "2021-07-16T07:24:12.989Z"
   },
   {
    "duration": 650,
    "start_time": "2021-07-16T07:25:35.419Z"
   },
   {
    "duration": 492,
    "start_time": "2021-07-16T07:25:59.544Z"
   },
   {
    "duration": 516,
    "start_time": "2021-07-16T07:26:55.787Z"
   },
   {
    "duration": 723,
    "start_time": "2021-07-16T07:27:02.259Z"
   },
   {
    "duration": 508,
    "start_time": "2021-07-16T07:27:24.409Z"
   },
   {
    "duration": 582,
    "start_time": "2021-07-16T07:28:17.660Z"
   },
   {
    "duration": 467,
    "start_time": "2021-07-16T07:28:24.765Z"
   },
   {
    "duration": 685,
    "start_time": "2021-07-16T07:34:37.378Z"
   },
   {
    "duration": 683,
    "start_time": "2021-07-16T07:34:47.701Z"
   },
   {
    "duration": 1252,
    "start_time": "2021-07-16T07:35:03.624Z"
   },
   {
    "duration": 482,
    "start_time": "2021-07-16T07:35:25.738Z"
   },
   {
    "duration": 654,
    "start_time": "2021-07-16T07:42:17.247Z"
   },
   {
    "duration": 578,
    "start_time": "2021-07-16T07:42:26.834Z"
   },
   {
    "duration": 1342,
    "start_time": "2021-07-16T10:08:38.719Z"
   },
   {
    "duration": 47,
    "start_time": "2021-07-16T10:08:40.064Z"
   },
   {
    "duration": 13,
    "start_time": "2021-07-16T10:08:40.114Z"
   },
   {
    "duration": 8,
    "start_time": "2021-07-16T10:08:40.130Z"
   },
   {
    "duration": 36,
    "start_time": "2021-07-16T10:08:40.141Z"
   },
   {
    "duration": 11,
    "start_time": "2021-07-16T10:08:40.180Z"
   },
   {
    "duration": 7,
    "start_time": "2021-07-16T10:08:40.193Z"
   },
   {
    "duration": 486,
    "start_time": "2021-07-16T10:08:40.204Z"
   },
   {
    "duration": 9,
    "start_time": "2021-07-16T10:08:40.692Z"
   },
   {
    "duration": 541,
    "start_time": "2021-07-16T10:08:40.703Z"
   },
   {
    "duration": 384,
    "start_time": "2021-07-16T10:08:41.246Z"
   },
   {
    "duration": 535,
    "start_time": "2021-07-16T10:08:41.632Z"
   },
   {
    "duration": 4,
    "start_time": "2021-07-16T10:08:42.169Z"
   },
   {
    "duration": 16,
    "start_time": "2021-07-16T10:08:42.175Z"
   },
   {
    "duration": 6,
    "start_time": "2021-07-16T10:08:42.194Z"
   },
   {
    "duration": 454,
    "start_time": "2021-07-16T10:08:42.203Z"
   },
   {
    "duration": 11,
    "start_time": "2021-07-16T10:08:42.659Z"
   },
   {
    "duration": 9200,
    "start_time": "2021-07-16T10:08:42.672Z"
   },
   {
    "duration": 524,
    "start_time": "2021-07-16T10:08:59.215Z"
   },
   {
    "duration": 766,
    "start_time": "2021-07-16T10:10:17.814Z"
   },
   {
    "duration": 467,
    "start_time": "2021-07-16T10:17:02.181Z"
   },
   {
    "duration": 463,
    "start_time": "2021-07-16T10:17:14.664Z"
   },
   {
    "duration": 560,
    "start_time": "2021-07-16T10:18:27.853Z"
   },
   {
    "duration": 7,
    "start_time": "2021-07-16T10:19:46.464Z"
   },
   {
    "duration": 12,
    "start_time": "2021-07-16T10:19:59.649Z"
   },
   {
    "duration": 499,
    "start_time": "2021-07-16T10:20:24.016Z"
   },
   {
    "duration": 510,
    "start_time": "2021-07-16T10:20:35.067Z"
   },
   {
    "duration": 383,
    "start_time": "2021-07-16T10:21:26.588Z"
   },
   {
    "duration": 374,
    "start_time": "2021-07-16T10:21:33.936Z"
   },
   {
    "duration": 324,
    "start_time": "2021-07-16T10:21:42.903Z"
   },
   {
    "duration": 1370,
    "start_time": "2021-07-16T10:21:52.602Z"
   },
   {
    "duration": 50,
    "start_time": "2021-07-16T10:21:53.975Z"
   },
   {
    "duration": 16,
    "start_time": "2021-07-16T10:21:54.029Z"
   },
   {
    "duration": 22,
    "start_time": "2021-07-16T10:21:54.048Z"
   },
   {
    "duration": 24,
    "start_time": "2021-07-16T10:21:54.074Z"
   },
   {
    "duration": 17,
    "start_time": "2021-07-16T10:21:54.100Z"
   },
   {
    "duration": 9,
    "start_time": "2021-07-16T10:21:54.120Z"
   },
   {
    "duration": 35,
    "start_time": "2021-07-16T10:21:54.132Z"
   },
   {
    "duration": 589,
    "start_time": "2021-07-16T10:21:54.171Z"
   },
   {
    "duration": 513,
    "start_time": "2021-07-16T10:21:54.762Z"
   },
   {
    "duration": -1871,
    "start_time": "2021-07-16T10:21:57.149Z"
   },
   {
    "duration": -1872,
    "start_time": "2021-07-16T10:21:57.152Z"
   },
   {
    "duration": -1875,
    "start_time": "2021-07-16T10:21:57.156Z"
   },
   {
    "duration": -1880,
    "start_time": "2021-07-16T10:21:57.162Z"
   },
   {
    "duration": -1880,
    "start_time": "2021-07-16T10:21:57.164Z"
   },
   {
    "duration": -1881,
    "start_time": "2021-07-16T10:21:57.167Z"
   },
   {
    "duration": -1883,
    "start_time": "2021-07-16T10:21:57.170Z"
   },
   {
    "duration": -1886,
    "start_time": "2021-07-16T10:21:57.174Z"
   },
   {
    "duration": -1887,
    "start_time": "2021-07-16T10:21:57.177Z"
   },
   {
    "duration": 1382,
    "start_time": "2021-07-16T10:22:38.917Z"
   },
   {
    "duration": 51,
    "start_time": "2021-07-16T10:22:40.302Z"
   },
   {
    "duration": 21,
    "start_time": "2021-07-16T10:22:40.357Z"
   },
   {
    "duration": 10,
    "start_time": "2021-07-16T10:22:40.382Z"
   },
   {
    "duration": 16,
    "start_time": "2021-07-16T10:22:40.395Z"
   },
   {
    "duration": 9,
    "start_time": "2021-07-16T10:22:40.414Z"
   },
   {
    "duration": 42,
    "start_time": "2021-07-16T10:22:40.425Z"
   },
   {
    "duration": 12,
    "start_time": "2021-07-16T10:22:40.471Z"
   },
   {
    "duration": 588,
    "start_time": "2021-07-16T10:22:40.486Z"
   },
   {
    "duration": 433,
    "start_time": "2021-07-16T10:22:41.077Z"
   },
   {
    "duration": 571,
    "start_time": "2021-07-16T10:22:41.513Z"
   },
   {
    "duration": 3,
    "start_time": "2021-07-16T10:22:42.087Z"
   },
   {
    "duration": 24,
    "start_time": "2021-07-16T10:22:42.092Z"
   },
   {
    "duration": 6,
    "start_time": "2021-07-16T10:22:42.119Z"
   },
   {
    "duration": 463,
    "start_time": "2021-07-16T10:22:42.127Z"
   },
   {
    "duration": 6,
    "start_time": "2021-07-16T10:22:42.593Z"
   },
   {
    "duration": 550,
    "start_time": "2021-07-16T10:22:42.601Z"
   },
   {
    "duration": 14,
    "start_time": "2021-07-16T10:22:43.153Z"
   },
   {
    "duration": 600,
    "start_time": "2021-07-16T10:22:43.169Z"
   },
   {
    "duration": 12,
    "start_time": "2021-07-16T10:27:08.913Z"
   },
   {
    "duration": 6,
    "start_time": "2021-07-16T10:28:46.430Z"
   },
   {
    "duration": 6,
    "start_time": "2021-07-16T10:29:06.305Z"
   },
   {
    "duration": 16,
    "start_time": "2021-07-16T10:29:28.024Z"
   },
   {
    "duration": 6,
    "start_time": "2021-07-16T10:30:01.663Z"
   },
   {
    "duration": 5,
    "start_time": "2021-07-16T10:30:38.347Z"
   },
   {
    "duration": 5,
    "start_time": "2021-07-16T10:30:38.840Z"
   },
   {
    "duration": 4,
    "start_time": "2021-07-16T10:30:39.287Z"
   },
   {
    "duration": 4,
    "start_time": "2021-07-16T10:30:39.767Z"
   },
   {
    "duration": 16,
    "start_time": "2021-07-16T10:30:40.478Z"
   },
   {
    "duration": 1326,
    "start_time": "2021-07-16T17:05:58.809Z"
   },
   {
    "duration": 49,
    "start_time": "2021-07-16T17:06:00.138Z"
   },
   {
    "duration": 12,
    "start_time": "2021-07-16T17:06:00.190Z"
   },
   {
    "duration": 28,
    "start_time": "2021-07-16T17:06:00.204Z"
   },
   {
    "duration": 21,
    "start_time": "2021-07-16T17:06:00.235Z"
   },
   {
    "duration": 11,
    "start_time": "2021-07-16T17:06:00.258Z"
   },
   {
    "duration": 14,
    "start_time": "2021-07-16T17:06:00.271Z"
   },
   {
    "duration": 16,
    "start_time": "2021-07-16T17:06:00.289Z"
   },
   {
    "duration": 532,
    "start_time": "2021-07-16T17:06:00.308Z"
   },
   {
    "duration": 368,
    "start_time": "2021-07-16T17:06:00.842Z"
   },
   {
    "duration": 630,
    "start_time": "2021-07-16T17:06:01.212Z"
   },
   {
    "duration": 3,
    "start_time": "2021-07-16T17:06:01.844Z"
   },
   {
    "duration": 32,
    "start_time": "2021-07-16T17:06:01.849Z"
   },
   {
    "duration": 12,
    "start_time": "2021-07-16T17:06:01.884Z"
   },
   {
    "duration": 411,
    "start_time": "2021-07-16T17:06:01.898Z"
   },
   {
    "duration": 6,
    "start_time": "2021-07-16T17:06:02.311Z"
   },
   {
    "duration": 513,
    "start_time": "2021-07-16T17:06:02.320Z"
   },
   {
    "duration": 6,
    "start_time": "2021-07-16T17:06:02.836Z"
   },
   {
    "duration": 665,
    "start_time": "2021-07-16T17:06:02.855Z"
   },
   {
    "duration": 11,
    "start_time": "2021-07-16T17:06:03.522Z"
   },
   {
    "duration": 20,
    "start_time": "2021-07-16T17:06:03.535Z"
   },
   {
    "duration": 5,
    "start_time": "2021-07-16T17:06:03.558Z"
   },
   {
    "duration": 4,
    "start_time": "2021-07-16T17:06:03.567Z"
   },
   {
    "duration": 10,
    "start_time": "2021-07-16T17:06:03.573Z"
   },
   {
    "duration": 5,
    "start_time": "2021-07-16T17:06:03.585Z"
   },
   {
    "duration": 22,
    "start_time": "2021-07-16T17:06:03.592Z"
   },
   {
    "duration": 10,
    "start_time": "2021-07-16T17:06:38.634Z"
   },
   {
    "duration": 25,
    "start_time": "2021-07-16T17:06:40.335Z"
   },
   {
    "duration": 7,
    "start_time": "2021-07-16T17:10:29.090Z"
   },
   {
    "duration": 139,
    "start_time": "2021-07-16T17:11:39.493Z"
   },
   {
    "duration": 5,
    "start_time": "2021-07-16T17:12:26.781Z"
   },
   {
    "duration": 7,
    "start_time": "2021-07-16T17:14:26.316Z"
   },
   {
    "duration": 67,
    "start_time": "2021-07-16T17:16:18.267Z"
   },
   {
    "duration": 4,
    "start_time": "2021-07-16T17:17:52.900Z"
   },
   {
    "duration": 3,
    "start_time": "2021-07-16T17:20:15.091Z"
   },
   {
    "duration": 4,
    "start_time": "2021-07-16T17:22:31.308Z"
   },
   {
    "duration": 2766,
    "start_time": "2021-07-16T17:23:58.276Z"
   },
   {
    "duration": 5,
    "start_time": "2021-07-16T17:24:45.296Z"
   },
   {
    "duration": 1957,
    "start_time": "2021-07-16T17:24:48.030Z"
   },
   {
    "duration": 4,
    "start_time": "2021-07-16T17:25:00.613Z"
   },
   {
    "duration": 4,
    "start_time": "2021-07-16T17:26:06.563Z"
   },
   {
    "duration": 3931,
    "start_time": "2021-07-16T17:26:06.570Z"
   },
   {
    "duration": 4,
    "start_time": "2021-07-16T17:26:20.081Z"
   },
   {
    "duration": 2185,
    "start_time": "2021-07-16T17:26:20.516Z"
   },
   {
    "duration": 5,
    "start_time": "2021-07-16T17:26:30.291Z"
   },
   {
    "duration": 2267,
    "start_time": "2021-07-16T17:26:30.732Z"
   },
   {
    "duration": 4,
    "start_time": "2021-07-16T17:26:49.124Z"
   },
   {
    "duration": 2779,
    "start_time": "2021-07-16T17:26:49.557Z"
   },
   {
    "duration": 4,
    "start_time": "2021-07-16T17:27:00.494Z"
   },
   {
    "duration": 2190,
    "start_time": "2021-07-16T17:27:00.925Z"
   },
   {
    "duration": 4,
    "start_time": "2021-07-16T17:27:10.036Z"
   },
   {
    "duration": 1896,
    "start_time": "2021-07-16T17:27:10.617Z"
   },
   {
    "duration": 4,
    "start_time": "2021-07-16T17:27:18.010Z"
   },
   {
    "duration": 2999,
    "start_time": "2021-07-16T17:27:18.479Z"
   },
   {
    "duration": 4,
    "start_time": "2021-07-16T17:27:28.435Z"
   },
   {
    "duration": 2746,
    "start_time": "2021-07-16T17:27:28.768Z"
   },
   {
    "duration": 14,
    "start_time": "2021-07-16T17:31:34.626Z"
   },
   {
    "duration": 8,
    "start_time": "2021-07-16T17:32:49.897Z"
   },
   {
    "duration": 45,
    "start_time": "2021-07-16T17:43:54.897Z"
   },
   {
    "duration": 12,
    "start_time": "2021-07-16T17:45:02.232Z"
   },
   {
    "duration": 5,
    "start_time": "2021-07-16T17:45:43.193Z"
   },
   {
    "duration": 7,
    "start_time": "2021-07-16T17:46:07.575Z"
   },
   {
    "duration": 279,
    "start_time": "2021-07-16T17:46:58.921Z"
   },
   {
    "duration": 283,
    "start_time": "2021-07-16T17:47:24.026Z"
   },
   {
    "duration": 5,
    "start_time": "2021-07-16T17:47:47.460Z"
   },
   {
    "duration": 6,
    "start_time": "2021-07-16T17:47:48.172Z"
   },
   {
    "duration": 3,
    "start_time": "2021-07-16T17:49:44.799Z"
   },
   {
    "duration": 178,
    "start_time": "2021-07-16T17:50:08.507Z"
   },
   {
    "duration": 8,
    "start_time": "2021-07-16T17:50:56.710Z"
   },
   {
    "duration": 6,
    "start_time": "2021-07-16T17:51:37.890Z"
   },
   {
    "duration": 4,
    "start_time": "2021-07-16T17:51:45.969Z"
   },
   {
    "duration": 324,
    "start_time": "2021-07-16T17:51:46.661Z"
   },
   {
    "duration": 11,
    "start_time": "2021-07-16T17:51:48.048Z"
   },
   {
    "duration": 7,
    "start_time": "2021-07-16T17:51:48.768Z"
   },
   {
    "duration": 4,
    "start_time": "2021-07-16T17:51:55.593Z"
   },
   {
    "duration": 122,
    "start_time": "2021-07-16T17:51:56.568Z"
   },
   {
    "duration": 6,
    "start_time": "2021-07-16T17:51:57.485Z"
   },
   {
    "duration": 6,
    "start_time": "2021-07-16T17:51:58.748Z"
   },
   {
    "duration": 4,
    "start_time": "2021-07-16T17:52:03.774Z"
   },
   {
    "duration": 175,
    "start_time": "2021-07-16T17:52:04.359Z"
   },
   {
    "duration": 7,
    "start_time": "2021-07-16T17:52:05.042Z"
   },
   {
    "duration": 7,
    "start_time": "2021-07-16T17:52:05.996Z"
   },
   {
    "duration": 4,
    "start_time": "2021-07-16T17:52:11.377Z"
   },
   {
    "duration": 496,
    "start_time": "2021-07-16T17:52:12.090Z"
   },
   {
    "duration": 10,
    "start_time": "2021-07-16T17:52:14.223Z"
   },
   {
    "duration": 7,
    "start_time": "2021-07-16T17:52:14.729Z"
   },
   {
    "duration": 3,
    "start_time": "2021-07-16T17:52:19.923Z"
   },
   {
    "duration": 414,
    "start_time": "2021-07-16T17:52:20.499Z"
   },
   {
    "duration": 10,
    "start_time": "2021-07-16T17:52:21.805Z"
   },
   {
    "duration": 9,
    "start_time": "2021-07-16T17:52:22.612Z"
   },
   {
    "duration": 4,
    "start_time": "2021-07-16T17:52:28.551Z"
   },
   {
    "duration": 347,
    "start_time": "2021-07-16T17:52:29.082Z"
   },
   {
    "duration": 9,
    "start_time": "2021-07-16T17:52:29.796Z"
   },
   {
    "duration": 7,
    "start_time": "2021-07-16T17:52:30.545Z"
   },
   {
    "duration": 4,
    "start_time": "2021-07-16T17:52:35.223Z"
   },
   {
    "duration": 484,
    "start_time": "2021-07-16T17:52:35.794Z"
   },
   {
    "duration": 10,
    "start_time": "2021-07-16T17:52:36.538Z"
   },
   {
    "duration": 6,
    "start_time": "2021-07-16T17:52:37.539Z"
   },
   {
    "duration": 4,
    "start_time": "2021-07-16T17:52:42.064Z"
   },
   {
    "duration": 561,
    "start_time": "2021-07-16T17:52:42.665Z"
   },
   {
    "duration": 10,
    "start_time": "2021-07-16T17:52:43.290Z"
   },
   {
    "duration": 6,
    "start_time": "2021-07-16T17:52:43.807Z"
   },
   {
    "duration": 4,
    "start_time": "2021-07-16T17:52:53.030Z"
   },
   {
    "duration": 599,
    "start_time": "2021-07-16T17:52:53.529Z"
   },
   {
    "duration": 10,
    "start_time": "2021-07-16T17:52:54.159Z"
   },
   {
    "duration": 9,
    "start_time": "2021-07-16T17:52:55.041Z"
   },
   {
    "duration": 4,
    "start_time": "2021-07-16T17:53:04.226Z"
   },
   {
    "duration": 628,
    "start_time": "2021-07-16T17:53:04.745Z"
   },
   {
    "duration": 11,
    "start_time": "2021-07-16T17:53:05.417Z"
   },
   {
    "duration": 6,
    "start_time": "2021-07-16T17:53:05.967Z"
   },
   {
    "duration": 4,
    "start_time": "2021-07-16T17:53:11.190Z"
   },
   {
    "duration": 616,
    "start_time": "2021-07-16T17:53:11.647Z"
   },
   {
    "duration": 10,
    "start_time": "2021-07-16T17:53:12.266Z"
   },
   {
    "duration": 7,
    "start_time": "2021-07-16T17:53:12.693Z"
   },
   {
    "duration": 3,
    "start_time": "2021-07-16T17:53:23.094Z"
   },
   {
    "duration": 694,
    "start_time": "2021-07-16T17:53:23.727Z"
   },
   {
    "duration": 10,
    "start_time": "2021-07-16T17:53:24.507Z"
   },
   {
    "duration": 7,
    "start_time": "2021-07-16T17:53:25.662Z"
   },
   {
    "duration": 4,
    "start_time": "2021-07-16T17:53:31.074Z"
   },
   {
    "duration": 587,
    "start_time": "2021-07-16T17:53:31.601Z"
   },
   {
    "duration": 10,
    "start_time": "2021-07-16T17:53:32.274Z"
   },
   {
    "duration": 6,
    "start_time": "2021-07-16T17:53:32.764Z"
   },
   {
    "duration": 4,
    "start_time": "2021-07-16T17:53:38.180Z"
   },
   {
    "duration": 554,
    "start_time": "2021-07-16T17:53:38.637Z"
   },
   {
    "duration": 10,
    "start_time": "2021-07-16T17:53:39.193Z"
   },
   {
    "duration": 6,
    "start_time": "2021-07-16T17:53:39.609Z"
   },
   {
    "duration": 3,
    "start_time": "2021-07-16T17:53:44.794Z"
   },
   {
    "duration": 582,
    "start_time": "2021-07-16T17:53:45.263Z"
   },
   {
    "duration": 14,
    "start_time": "2021-07-16T17:53:45.848Z"
   },
   {
    "duration": 8,
    "start_time": "2021-07-16T17:53:46.259Z"
   },
   {
    "duration": 52,
    "start_time": "2021-07-16T18:03:07.990Z"
   },
   {
    "duration": 6,
    "start_time": "2021-07-16T18:06:00.508Z"
   },
   {
    "duration": 154125,
    "start_time": "2021-07-16T18:07:08.940Z"
   },
   {
    "duration": 7,
    "start_time": "2021-07-16T18:09:46.825Z"
   },
   {
    "duration": 35003,
    "start_time": "2021-07-16T18:09:47.561Z"
   },
   {
    "duration": 286,
    "start_time": "2021-07-16T18:11:00.995Z"
   },
   {
    "duration": 262,
    "start_time": "2021-07-16T18:12:21.691Z"
   },
   {
    "duration": 290,
    "start_time": "2021-07-16T18:12:54.210Z"
   },
   {
    "duration": 6,
    "start_time": "2021-07-16T18:13:03.112Z"
   },
   {
    "duration": 34746,
    "start_time": "2021-07-16T18:13:04.015Z"
   },
   {
    "duration": 101,
    "start_time": "2021-07-16T18:13:38.764Z"
   },
   {
    "duration": 7,
    "start_time": "2021-07-16T18:13:48.562Z"
   },
   {
    "duration": 124,
    "start_time": "2021-07-16T18:16:47.885Z"
   },
   {
    "duration": 123,
    "start_time": "2021-07-16T18:17:03.121Z"
   },
   {
    "duration": 231,
    "start_time": "2021-07-16T18:17:20.335Z"
   },
   {
    "duration": 8,
    "start_time": "2021-07-16T18:18:06.578Z"
   },
   {
    "duration": 6,
    "start_time": "2021-07-16T18:18:20.322Z"
   },
   {
    "duration": 415197,
    "start_time": "2021-07-16T18:18:20.968Z"
   },
   {
    "duration": 501,
    "start_time": "2021-07-16T18:25:16.169Z"
   },
   {
    "duration": 7,
    "start_time": "2021-07-16T18:25:16.672Z"
   },
   {
    "duration": 6,
    "start_time": "2021-07-16T18:25:46.806Z"
   },
   {
    "duration": -2612,
    "start_time": "2021-07-16T18:36:46.651Z"
   },
   {
    "duration": -2625,
    "start_time": "2021-07-16T18:36:46.665Z"
   },
   {
    "duration": -2631,
    "start_time": "2021-07-16T18:36:46.673Z"
   },
   {
    "duration": -2639,
    "start_time": "2021-07-16T18:36:46.682Z"
   },
   {
    "duration": 6,
    "start_time": "2021-07-16T18:36:57.470Z"
   },
   {
    "duration": 379,
    "start_time": "2021-07-16T18:37:00.514Z"
   },
   {
    "duration": 473,
    "start_time": "2021-07-16T18:37:09.963Z"
   },
   {
    "duration": 746,
    "start_time": "2021-07-16T18:38:10.241Z"
   },
   {
    "duration": 16,
    "start_time": "2021-07-16T18:38:28.005Z"
   },
   {
    "duration": 6,
    "start_time": "2021-07-16T18:38:38.195Z"
   },
   {
    "duration": 810,
    "start_time": "2021-07-16T18:40:06.035Z"
   },
   {
    "duration": 460,
    "start_time": "2021-07-16T18:40:20.750Z"
   },
   {
    "duration": 11,
    "start_time": "2021-07-16T18:42:56.715Z"
   },
   {
    "duration": 604,
    "start_time": "2021-07-16T18:42:57.744Z"
   },
   {
    "duration": 627,
    "start_time": "2021-07-16T18:43:11.910Z"
   },
   {
    "duration": 276,
    "start_time": "2021-07-16T18:43:35.325Z"
   },
   {
    "duration": 7,
    "start_time": "2021-07-16T18:43:57.561Z"
   },
   {
    "duration": 695,
    "start_time": "2021-07-16T18:43:58.202Z"
   },
   {
    "duration": 5,
    "start_time": "2021-07-16T18:46:42.313Z"
   },
   {
    "duration": 281,
    "start_time": "2021-07-16T18:47:53.790Z"
   },
   {
    "duration": 4,
    "start_time": "2021-07-16T18:48:07.945Z"
   },
   {
    "duration": 5,
    "start_time": "2021-07-16T18:48:25.319Z"
   },
   {
    "duration": 300,
    "start_time": "2021-07-16T18:48:57.152Z"
   },
   {
    "duration": 9806,
    "start_time": "2021-07-16T18:50:32.891Z"
   },
   {
    "duration": -1920,
    "start_time": "2021-07-16T18:50:44.619Z"
   },
   {
    "duration": 5,
    "start_time": "2021-07-16T18:51:05.143Z"
   },
   {
    "duration": 464,
    "start_time": "2021-07-16T18:51:06.038Z"
   },
   {
    "duration": 1193,
    "start_time": "2021-07-19T04:55:07.951Z"
   },
   {
    "duration": 35,
    "start_time": "2021-07-19T04:55:09.146Z"
   },
   {
    "duration": 11,
    "start_time": "2021-07-19T04:55:09.184Z"
   },
   {
    "duration": 6,
    "start_time": "2021-07-19T04:55:09.196Z"
   },
   {
    "duration": 9,
    "start_time": "2021-07-19T04:55:09.203Z"
   },
   {
    "duration": 6,
    "start_time": "2021-07-19T04:55:09.214Z"
   },
   {
    "duration": 3,
    "start_time": "2021-07-19T04:55:09.241Z"
   },
   {
    "duration": 7,
    "start_time": "2021-07-19T04:55:09.247Z"
   },
   {
    "duration": 305,
    "start_time": "2021-07-19T04:55:09.256Z"
   },
   {
    "duration": 211,
    "start_time": "2021-07-19T04:55:09.563Z"
   },
   {
    "duration": 349,
    "start_time": "2021-07-19T04:55:09.776Z"
   },
   {
    "duration": 2,
    "start_time": "2021-07-19T04:55:10.127Z"
   },
   {
    "duration": 14,
    "start_time": "2021-07-19T04:55:10.131Z"
   },
   {
    "duration": 5,
    "start_time": "2021-07-19T04:55:10.147Z"
   },
   {
    "duration": 279,
    "start_time": "2021-07-19T04:55:10.154Z"
   },
   {
    "duration": 4,
    "start_time": "2021-07-19T04:55:10.435Z"
   },
   {
    "duration": 329,
    "start_time": "2021-07-19T04:55:10.441Z"
   },
   {
    "duration": 4,
    "start_time": "2021-07-19T04:55:10.772Z"
   },
   {
    "duration": 323,
    "start_time": "2021-07-19T04:55:10.778Z"
   },
   {
    "duration": 8,
    "start_time": "2021-07-19T04:55:11.102Z"
   },
   {
    "duration": 4,
    "start_time": "2021-07-19T04:55:11.111Z"
   },
   {
    "duration": 5,
    "start_time": "2021-07-19T04:55:11.116Z"
   },
   {
    "duration": 3,
    "start_time": "2021-07-19T04:55:11.140Z"
   },
   {
    "duration": 9,
    "start_time": "2021-07-19T04:55:11.145Z"
   },
   {
    "duration": 5,
    "start_time": "2021-07-19T04:55:11.156Z"
   },
   {
    "duration": 16,
    "start_time": "2021-07-19T04:55:11.162Z"
   },
   {
    "duration": 6,
    "start_time": "2021-07-19T04:55:11.180Z"
   },
   {
    "duration": 7,
    "start_time": "2021-07-19T04:55:11.188Z"
   },
   {
    "duration": 9,
    "start_time": "2021-07-19T04:55:11.197Z"
   },
   {
    "duration": 3,
    "start_time": "2021-07-19T04:55:11.208Z"
   },
   {
    "duration": 3,
    "start_time": "2021-07-19T04:55:11.242Z"
   },
   {
    "duration": 2661,
    "start_time": "2021-07-19T04:55:11.247Z"
   },
   {
    "duration": 9,
    "start_time": "2021-07-19T04:55:13.910Z"
   },
   {
    "duration": 8,
    "start_time": "2021-07-19T04:55:13.921Z"
   },
   {
    "duration": 8,
    "start_time": "2021-07-19T04:55:13.931Z"
   },
   {
    "duration": 4,
    "start_time": "2021-07-19T04:55:13.942Z"
   },
   {
    "duration": 7,
    "start_time": "2021-07-19T04:55:13.947Z"
   },
   {
    "duration": 4,
    "start_time": "2021-07-19T04:55:13.955Z"
   },
   {
    "duration": 588,
    "start_time": "2021-07-19T04:55:13.960Z"
   },
   {
    "duration": 6,
    "start_time": "2021-07-19T04:55:14.550Z"
   },
   {
    "duration": 7,
    "start_time": "2021-07-19T04:55:14.558Z"
   },
   {
    "duration": 4,
    "start_time": "2021-07-19T04:55:14.567Z"
   },
   {
    "duration": 31569,
    "start_time": "2021-07-19T04:55:14.573Z"
   },
   {
    "duration": 262,
    "start_time": "2021-07-19T04:55:46.143Z"
   },
   {
    "duration": 5,
    "start_time": "2021-07-19T04:55:46.406Z"
   },
   {
    "duration": 5,
    "start_time": "2021-07-19T04:55:46.412Z"
   },
   {
    "duration": 22,
    "start_time": "2021-07-19T04:55:46.419Z"
   },
   {
    "duration": 6,
    "start_time": "2021-07-19T04:55:46.443Z"
   },
   {
    "duration": 323,
    "start_time": "2021-07-19T05:22:14.953Z"
   },
   {
    "duration": 348,
    "start_time": "2021-07-19T05:23:22.659Z"
   },
   {
    "duration": 746,
    "start_time": "2021-07-19T05:29:37.825Z"
   },
   {
    "duration": 1219,
    "start_time": "2021-07-19T05:29:56.359Z"
   },
   {
    "duration": 38,
    "start_time": "2021-07-19T05:29:57.580Z"
   },
   {
    "duration": 9,
    "start_time": "2021-07-19T05:29:57.620Z"
   },
   {
    "duration": 8,
    "start_time": "2021-07-19T05:29:57.630Z"
   },
   {
    "duration": 12,
    "start_time": "2021-07-19T05:29:57.640Z"
   },
   {
    "duration": 6,
    "start_time": "2021-07-19T05:29:57.653Z"
   },
   {
    "duration": 6,
    "start_time": "2021-07-19T05:29:57.660Z"
   },
   {
    "duration": 7,
    "start_time": "2021-07-19T05:29:57.668Z"
   },
   {
    "duration": 317,
    "start_time": "2021-07-19T05:29:57.677Z"
   },
   {
    "duration": 233,
    "start_time": "2021-07-19T05:29:57.995Z"
   },
   {
    "duration": 377,
    "start_time": "2021-07-19T05:29:58.230Z"
   },
   {
    "duration": 3,
    "start_time": "2021-07-19T05:29:58.609Z"
   },
   {
    "duration": 14,
    "start_time": "2021-07-19T05:29:58.613Z"
   },
   {
    "duration": 13,
    "start_time": "2021-07-19T05:29:58.629Z"
   },
   {
    "duration": 312,
    "start_time": "2021-07-19T05:29:58.644Z"
   },
   {
    "duration": 5,
    "start_time": "2021-07-19T05:29:58.958Z"
   },
   {
    "duration": 347,
    "start_time": "2021-07-19T05:29:58.964Z"
   },
   {
    "duration": 5,
    "start_time": "2021-07-19T05:29:59.313Z"
   },
   {
    "duration": 415,
    "start_time": "2021-07-19T05:29:59.320Z"
   },
   {
    "duration": 10,
    "start_time": "2021-07-19T05:29:59.740Z"
   },
   {
    "duration": 5,
    "start_time": "2021-07-19T05:29:59.752Z"
   },
   {
    "duration": 5,
    "start_time": "2021-07-19T05:29:59.758Z"
   },
   {
    "duration": 4,
    "start_time": "2021-07-19T05:29:59.767Z"
   },
   {
    "duration": 10,
    "start_time": "2021-07-19T05:29:59.773Z"
   },
   {
    "duration": 4,
    "start_time": "2021-07-19T05:29:59.785Z"
   },
   {
    "duration": 61,
    "start_time": "2021-07-19T05:29:59.791Z"
   },
   {
    "duration": 8,
    "start_time": "2021-07-19T05:29:59.854Z"
   },
   {
    "duration": 5,
    "start_time": "2021-07-19T05:29:59.863Z"
   },
   {
    "duration": 7,
    "start_time": "2021-07-19T05:29:59.870Z"
   },
   {
    "duration": 4,
    "start_time": "2021-07-19T05:29:59.878Z"
   },
   {
    "duration": 5,
    "start_time": "2021-07-19T05:29:59.884Z"
   },
   {
    "duration": 2180,
    "start_time": "2021-07-19T05:29:59.891Z"
   },
   {
    "duration": 8,
    "start_time": "2021-07-19T05:30:02.072Z"
   },
   {
    "duration": 7,
    "start_time": "2021-07-19T05:30:02.082Z"
   },
   {
    "duration": 15,
    "start_time": "2021-07-19T05:30:02.091Z"
   },
   {
    "duration": 5,
    "start_time": "2021-07-19T05:30:02.108Z"
   },
   {
    "duration": 30,
    "start_time": "2021-07-19T05:30:02.115Z"
   },
   {
    "duration": 9,
    "start_time": "2021-07-19T05:30:02.147Z"
   },
   {
    "duration": 530,
    "start_time": "2021-07-19T05:30:02.158Z"
   },
   {
    "duration": 8,
    "start_time": "2021-07-19T05:30:02.689Z"
   },
   {
    "duration": 5,
    "start_time": "2021-07-19T05:30:02.699Z"
   },
   {
    "duration": 6,
    "start_time": "2021-07-19T05:30:02.706Z"
   },
   {
    "duration": 28235,
    "start_time": "2021-07-19T05:30:02.713Z"
   },
   {
    "duration": 294,
    "start_time": "2021-07-19T05:30:30.950Z"
   },
   {
    "duration": 4,
    "start_time": "2021-07-19T05:30:31.245Z"
   },
   {
    "duration": 10,
    "start_time": "2021-07-19T05:30:31.251Z"
   },
   {
    "duration": 6,
    "start_time": "2021-07-19T05:30:31.263Z"
   },
   {
    "duration": 17,
    "start_time": "2021-07-19T05:30:31.270Z"
   },
   {
    "duration": 1091,
    "start_time": "2021-07-19T05:52:00.987Z"
   },
   {
    "duration": 37,
    "start_time": "2021-07-19T05:52:02.080Z"
   },
   {
    "duration": 11,
    "start_time": "2021-07-19T05:52:02.119Z"
   },
   {
    "duration": 8,
    "start_time": "2021-07-19T05:52:02.132Z"
   },
   {
    "duration": 9,
    "start_time": "2021-07-19T05:52:02.142Z"
   },
   {
    "duration": 6,
    "start_time": "2021-07-19T05:52:02.152Z"
   },
   {
    "duration": 5,
    "start_time": "2021-07-19T05:52:02.159Z"
   },
   {
    "duration": 7,
    "start_time": "2021-07-19T05:52:02.166Z"
   },
   {
    "duration": 321,
    "start_time": "2021-07-19T05:52:02.174Z"
   },
   {
    "duration": 214,
    "start_time": "2021-07-19T05:52:02.497Z"
   },
   {
    "duration": 365,
    "start_time": "2021-07-19T05:52:02.712Z"
   },
   {
    "duration": 3,
    "start_time": "2021-07-19T05:52:03.078Z"
   },
   {
    "duration": 10,
    "start_time": "2021-07-19T05:52:03.082Z"
   },
   {
    "duration": 4,
    "start_time": "2021-07-19T05:52:03.094Z"
   },
   {
    "duration": 293,
    "start_time": "2021-07-19T05:52:03.099Z"
   },
   {
    "duration": 5,
    "start_time": "2021-07-19T05:52:03.393Z"
   },
   {
    "duration": 362,
    "start_time": "2021-07-19T05:52:03.399Z"
   },
   {
    "duration": 5,
    "start_time": "2021-07-19T05:52:03.762Z"
   },
   {
    "duration": 378,
    "start_time": "2021-07-19T05:52:03.769Z"
   },
   {
    "duration": 7,
    "start_time": "2021-07-19T05:52:04.149Z"
   },
   {
    "duration": 9,
    "start_time": "2021-07-19T05:52:04.157Z"
   },
   {
    "duration": 13,
    "start_time": "2021-07-19T05:52:04.168Z"
   },
   {
    "duration": 4,
    "start_time": "2021-07-19T05:52:04.185Z"
   },
   {
    "duration": 8,
    "start_time": "2021-07-19T05:52:04.191Z"
   },
   {
    "duration": 24,
    "start_time": "2021-07-19T05:52:04.200Z"
   },
   {
    "duration": 20,
    "start_time": "2021-07-19T05:52:04.225Z"
   },
   {
    "duration": 5,
    "start_time": "2021-07-19T05:52:04.246Z"
   },
   {
    "duration": 12,
    "start_time": "2021-07-19T05:52:04.252Z"
   },
   {
    "duration": 20,
    "start_time": "2021-07-19T05:52:04.265Z"
   },
   {
    "duration": 5,
    "start_time": "2021-07-19T05:52:04.286Z"
   },
   {
    "duration": 10,
    "start_time": "2021-07-19T05:52:04.292Z"
   },
   {
    "duration": 2046,
    "start_time": "2021-07-19T05:52:04.303Z"
   },
   {
    "duration": 9,
    "start_time": "2021-07-19T05:52:06.350Z"
   },
   {
    "duration": 8,
    "start_time": "2021-07-19T05:52:06.361Z"
   },
   {
    "duration": 8,
    "start_time": "2021-07-19T05:52:06.370Z"
   },
   {
    "duration": 4,
    "start_time": "2021-07-19T05:52:06.381Z"
   },
   {
    "duration": 56,
    "start_time": "2021-07-19T05:52:06.387Z"
   },
   {
    "duration": 3,
    "start_time": "2021-07-19T05:52:06.446Z"
   },
   {
    "duration": 527,
    "start_time": "2021-07-19T05:52:06.451Z"
   },
   {
    "duration": 6,
    "start_time": "2021-07-19T05:52:06.979Z"
   },
   {
    "duration": 10,
    "start_time": "2021-07-19T05:52:06.986Z"
   },
   {
    "duration": 16,
    "start_time": "2021-07-19T05:52:06.997Z"
   },
   {
    "duration": 27427,
    "start_time": "2021-07-19T05:52:07.015Z"
   },
   {
    "duration": 260,
    "start_time": "2021-07-19T05:52:34.444Z"
   },
   {
    "duration": 5,
    "start_time": "2021-07-19T05:52:34.706Z"
   },
   {
    "duration": 5,
    "start_time": "2021-07-19T05:52:34.712Z"
   },
   {
    "duration": 4,
    "start_time": "2021-07-19T05:52:34.719Z"
   },
   {
    "duration": 4,
    "start_time": "2021-07-19T05:52:34.741Z"
   },
   {
    "duration": 1143,
    "start_time": "2021-07-19T14:41:52.751Z"
   },
   {
    "duration": 33,
    "start_time": "2021-07-19T14:41:53.895Z"
   },
   {
    "duration": 8,
    "start_time": "2021-07-19T14:41:53.930Z"
   },
   {
    "duration": 5,
    "start_time": "2021-07-19T14:41:53.940Z"
   },
   {
    "duration": 8,
    "start_time": "2021-07-19T14:41:53.946Z"
   },
   {
    "duration": 5,
    "start_time": "2021-07-19T14:41:53.955Z"
   },
   {
    "duration": 4,
    "start_time": "2021-07-19T14:41:53.961Z"
   },
   {
    "duration": 26,
    "start_time": "2021-07-19T14:41:53.967Z"
   },
   {
    "duration": 283,
    "start_time": "2021-07-19T14:41:53.994Z"
   },
   {
    "duration": 203,
    "start_time": "2021-07-19T14:41:54.279Z"
   },
   {
    "duration": 368,
    "start_time": "2021-07-19T14:41:54.484Z"
   },
   {
    "duration": 3,
    "start_time": "2021-07-19T14:41:54.854Z"
   },
   {
    "duration": 16,
    "start_time": "2021-07-19T14:41:54.858Z"
   },
   {
    "duration": 10,
    "start_time": "2021-07-19T14:41:54.876Z"
   },
   {
    "duration": 284,
    "start_time": "2021-07-19T14:41:54.887Z"
   },
   {
    "duration": 4,
    "start_time": "2021-07-19T14:41:55.172Z"
   },
   {
    "duration": 365,
    "start_time": "2021-07-19T14:41:55.177Z"
   },
   {
    "duration": 5,
    "start_time": "2021-07-19T14:41:55.544Z"
   },
   {
    "duration": 406,
    "start_time": "2021-07-19T14:41:55.551Z"
   },
   {
    "duration": 9,
    "start_time": "2021-07-19T14:41:55.959Z"
   },
   {
    "duration": 22,
    "start_time": "2021-07-19T14:41:55.969Z"
   },
   {
    "duration": 4,
    "start_time": "2021-07-19T14:41:55.993Z"
   },
   {
    "duration": 3,
    "start_time": "2021-07-19T14:41:56.000Z"
   },
   {
    "duration": 8,
    "start_time": "2021-07-19T14:41:56.005Z"
   },
   {
    "duration": 4,
    "start_time": "2021-07-19T14:41:56.015Z"
   },
   {
    "duration": 18,
    "start_time": "2021-07-19T14:41:56.020Z"
   },
   {
    "duration": 5,
    "start_time": "2021-07-19T14:41:56.039Z"
   },
   {
    "duration": 7,
    "start_time": "2021-07-19T14:41:56.045Z"
   },
   {
    "duration": 39,
    "start_time": "2021-07-19T14:41:56.053Z"
   },
   {
    "duration": 3,
    "start_time": "2021-07-19T14:41:56.093Z"
   },
   {
    "duration": 6,
    "start_time": "2021-07-19T14:41:56.097Z"
   },
   {
    "duration": 2004,
    "start_time": "2021-07-19T14:41:56.104Z"
   },
   {
    "duration": 14,
    "start_time": "2021-07-19T14:42:07.938Z"
   },
   {
    "duration": 8,
    "start_time": "2021-07-19T14:42:10.543Z"
   },
   {
    "duration": 16,
    "start_time": "2021-07-19T14:42:16.563Z"
   },
   {
    "duration": 1647,
    "start_time": "2021-07-19T17:56:29.421Z"
   },
   {
    "duration": 48,
    "start_time": "2021-07-19T17:56:32.827Z"
   },
   {
    "duration": 14,
    "start_time": "2021-07-19T17:56:33.537Z"
   },
   {
    "duration": 8,
    "start_time": "2021-07-19T17:56:34.049Z"
   },
   {
    "duration": 13,
    "start_time": "2021-07-19T17:56:39.836Z"
   },
   {
    "duration": 11,
    "start_time": "2021-07-19T17:56:39.851Z"
   },
   {
    "duration": 4,
    "start_time": "2021-07-19T17:56:44.863Z"
   },
   {
    "duration": 10,
    "start_time": "2021-07-19T17:56:47.116Z"
   },
   {
    "duration": 569,
    "start_time": "2021-07-19T17:56:47.562Z"
   },
   {
    "duration": 367,
    "start_time": "2021-07-19T17:56:51.673Z"
   },
   {
    "duration": 515,
    "start_time": "2021-07-19T17:56:54.886Z"
   },
   {
    "duration": 4,
    "start_time": "2021-07-19T17:56:58.072Z"
   },
   {
    "duration": 10,
    "start_time": "2021-07-19T17:56:58.533Z"
   },
   {
    "duration": 6,
    "start_time": "2021-07-19T17:56:58.967Z"
   },
   {
    "duration": 515,
    "start_time": "2021-07-19T17:56:59.378Z"
   },
   {
    "duration": 6,
    "start_time": "2021-07-19T17:57:03.207Z"
   },
   {
    "duration": 529,
    "start_time": "2021-07-19T17:57:03.623Z"
   },
   {
    "duration": 7,
    "start_time": "2021-07-19T17:57:07.875Z"
   },
   {
    "duration": 667,
    "start_time": "2021-07-19T17:57:08.253Z"
   },
   {
    "duration": 11,
    "start_time": "2021-07-19T17:57:12.585Z"
   },
   {
    "duration": 6,
    "start_time": "2021-07-19T17:57:18.677Z"
   },
   {
    "duration": 5,
    "start_time": "2021-07-19T17:57:19.145Z"
   },
   {
    "duration": 6,
    "start_time": "2021-07-19T17:57:19.736Z"
   },
   {
    "duration": 17,
    "start_time": "2021-07-19T17:57:20.703Z"
   },
   {
    "duration": 8,
    "start_time": "2021-07-19T17:57:24.822Z"
   },
   {
    "duration": 41,
    "start_time": "2021-07-19T17:57:25.420Z"
   },
   {
    "duration": 8,
    "start_time": "2021-07-19T17:57:25.956Z"
   },
   {
    "duration": 6,
    "start_time": "2021-07-19T17:57:29.631Z"
   },
   {
    "duration": 8,
    "start_time": "2021-07-19T17:57:30.189Z"
   },
   {
    "duration": 5,
    "start_time": "2021-07-19T17:57:36.022Z"
   },
   {
    "duration": 6,
    "start_time": "2021-07-19T17:57:37.445Z"
   },
   {
    "duration": 784,
    "start_time": "2021-07-19T17:57:39.450Z"
   },
   {
    "duration": 7,
    "start_time": "2021-07-19T17:59:08.831Z"
   },
   {
    "duration": 605,
    "start_time": "2021-07-19T17:59:09.547Z"
   },
   {
    "duration": 7,
    "start_time": "2021-07-19T18:00:22.018Z"
   },
   {
    "duration": 7,
    "start_time": "2021-07-19T18:00:43.156Z"
   },
   {
    "duration": 11,
    "start_time": "2021-07-19T18:01:10.675Z"
   },
   {
    "duration": 14,
    "start_time": "2021-07-19T18:09:21.587Z"
   },
   {
    "duration": 16,
    "start_time": "2021-07-19T18:10:21.061Z"
   },
   {
    "duration": 17,
    "start_time": "2021-07-19T18:11:34.023Z"
   },
   {
    "duration": 4,
    "start_time": "2021-07-19T18:12:03.990Z"
   },
   {
    "duration": 1969,
    "start_time": "2021-07-19T18:14:12.006Z"
   },
   {
    "duration": 4,
    "start_time": "2021-07-19T18:14:33.925Z"
   },
   {
    "duration": 3194,
    "start_time": "2021-07-19T18:14:34.515Z"
   },
   {
    "duration": 4,
    "start_time": "2021-07-19T18:14:57.528Z"
   },
   {
    "duration": 4240,
    "start_time": "2021-07-19T18:14:58.234Z"
   },
   {
    "duration": 4,
    "start_time": "2021-07-19T18:15:24.156Z"
   },
   {
    "duration": 8813,
    "start_time": "2021-07-19T18:15:25.396Z"
   },
   {
    "duration": 5,
    "start_time": "2021-07-19T18:15:47.249Z"
   },
   {
    "duration": 8225,
    "start_time": "2021-07-19T18:15:47.858Z"
   },
   {
    "duration": 5,
    "start_time": "2021-07-19T18:16:14.191Z"
   },
   {
    "duration": 10873,
    "start_time": "2021-07-19T18:16:14.820Z"
   },
   {
    "duration": 5,
    "start_time": "2021-07-19T18:16:42.910Z"
   },
   {
    "duration": 13770,
    "start_time": "2021-07-19T18:16:43.447Z"
   },
   {
    "duration": 4,
    "start_time": "2021-07-19T18:17:18.916Z"
   },
   {
    "duration": 16595,
    "start_time": "2021-07-19T18:17:19.792Z"
   },
   {
    "duration": 5,
    "start_time": "2021-07-19T18:17:56.924Z"
   },
   {
    "duration": 20398,
    "start_time": "2021-07-19T18:17:57.325Z"
   },
   {
    "duration": 2378,
    "start_time": "2021-07-19T18:18:52.322Z"
   },
   {
    "duration": 1025,
    "start_time": "2021-07-19T18:19:23.771Z"
   },
   {
    "duration": 1628,
    "start_time": "2021-07-19T18:21:00.544Z"
   },
   {
    "duration": 47,
    "start_time": "2021-07-19T18:21:03.529Z"
   },
   {
    "duration": 13,
    "start_time": "2021-07-19T18:21:04.054Z"
   },
   {
    "duration": 9,
    "start_time": "2021-07-19T18:21:04.515Z"
   },
   {
    "duration": 13,
    "start_time": "2021-07-19T18:21:09.785Z"
   },
   {
    "duration": 9,
    "start_time": "2021-07-19T18:21:13.849Z"
   },
   {
    "duration": 4,
    "start_time": "2021-07-19T18:21:17.170Z"
   },
   {
    "duration": 11,
    "start_time": "2021-07-19T18:21:19.184Z"
   },
   {
    "duration": 537,
    "start_time": "2021-07-19T18:21:19.823Z"
   },
   {
    "duration": 371,
    "start_time": "2021-07-19T18:21:24.000Z"
   },
   {
    "duration": 556,
    "start_time": "2021-07-19T18:21:26.036Z"
   },
   {
    "duration": 4,
    "start_time": "2021-07-19T18:21:29.325Z"
   },
   {
    "duration": 10,
    "start_time": "2021-07-19T18:21:29.838Z"
   },
   {
    "duration": 7,
    "start_time": "2021-07-19T18:21:30.380Z"
   },
   {
    "duration": 500,
    "start_time": "2021-07-19T18:21:30.869Z"
   },
   {
    "duration": 7,
    "start_time": "2021-07-19T18:21:34.852Z"
   },
   {
    "duration": 545,
    "start_time": "2021-07-19T18:21:35.398Z"
   },
   {
    "duration": 7,
    "start_time": "2021-07-19T18:21:39.919Z"
   },
   {
    "duration": 676,
    "start_time": "2021-07-19T18:21:40.428Z"
   },
   {
    "duration": 12,
    "start_time": "2021-07-19T18:21:45.958Z"
   },
   {
    "duration": 6,
    "start_time": "2021-07-19T18:21:50.246Z"
   },
   {
    "duration": 6,
    "start_time": "2021-07-19T18:21:50.522Z"
   },
   {
    "duration": 5,
    "start_time": "2021-07-19T18:21:50.882Z"
   },
   {
    "duration": 13,
    "start_time": "2021-07-19T18:21:51.324Z"
   },
   {
    "duration": 7,
    "start_time": "2021-07-19T18:22:22.313Z"
   },
   {
    "duration": 29,
    "start_time": "2021-07-19T18:22:22.915Z"
   },
   {
    "duration": 10,
    "start_time": "2021-07-19T18:22:26.323Z"
   },
   {
    "duration": 7,
    "start_time": "2021-07-19T18:22:28.441Z"
   },
   {
    "duration": 10,
    "start_time": "2021-07-19T18:22:28.949Z"
   },
   {
    "duration": 6,
    "start_time": "2021-07-19T18:22:32.443Z"
   },
   {
    "duration": 17,
    "start_time": "2021-07-19T18:22:33.255Z"
   },
   {
    "duration": 17,
    "start_time": "2021-07-19T18:22:33.933Z"
   },
   {
    "duration": 16,
    "start_time": "2021-07-19T18:22:34.477Z"
   },
   {
    "duration": 4,
    "start_time": "2021-07-19T18:22:37.772Z"
   },
   {
    "duration": 20072,
    "start_time": "2021-07-19T18:22:38.913Z"
   },
   {
    "duration": 21,
    "start_time": "2021-07-19T18:23:02.403Z"
   },
   {
    "duration": 7,
    "start_time": "2021-07-19T18:23:03.405Z"
   },
   {
    "duration": 5,
    "start_time": "2021-07-19T18:23:25.785Z"
   },
   {
    "duration": 32378,
    "start_time": "2021-07-19T18:23:26.491Z"
   },
   {
    "duration": 7,
    "start_time": "2021-07-19T18:23:58.872Z"
   },
   {
    "duration": 10,
    "start_time": "2021-07-19T18:23:58.881Z"
   },
   {
    "duration": 4,
    "start_time": "2021-07-19T18:24:13.251Z"
   },
   {
    "duration": 61583,
    "start_time": "2021-07-19T18:24:13.883Z"
   },
   {
    "duration": 6,
    "start_time": "2021-07-19T18:25:15.469Z"
   },
   {
    "duration": 16,
    "start_time": "2021-07-19T18:25:15.478Z"
   },
   {
    "duration": 4,
    "start_time": "2021-07-19T18:30:05.420Z"
   },
   {
    "duration": 140587,
    "start_time": "2021-07-19T18:30:06.888Z"
   },
   {
    "duration": 10,
    "start_time": "2021-07-19T18:32:27.478Z"
   },
   {
    "duration": 13,
    "start_time": "2021-07-19T18:32:27.491Z"
   },
   {
    "duration": 4,
    "start_time": "2021-07-19T18:32:42.080Z"
   },
   {
    "duration": 73341,
    "start_time": "2021-07-19T18:32:42.642Z"
   },
   {
    "duration": 9,
    "start_time": "2021-07-19T18:33:55.987Z"
   },
   {
    "duration": 8,
    "start_time": "2021-07-19T18:33:55.999Z"
   },
   {
    "duration": 21,
    "start_time": "2021-07-19T18:34:04.783Z"
   },
   {
    "duration": 19,
    "start_time": "2021-07-19T18:34:05.713Z"
   },
   {
    "duration": 1576,
    "start_time": "2021-07-19T18:43:48.002Z"
   },
   {
    "duration": 48,
    "start_time": "2021-07-19T18:43:52.026Z"
   },
   {
    "duration": 14,
    "start_time": "2021-07-19T18:43:52.687Z"
   },
   {
    "duration": 9,
    "start_time": "2021-07-19T18:43:53.187Z"
   },
   {
    "duration": 15,
    "start_time": "2021-07-19T18:43:56.753Z"
   },
   {
    "duration": 9,
    "start_time": "2021-07-19T18:43:59.681Z"
   },
   {
    "duration": 4,
    "start_time": "2021-07-19T18:44:04.239Z"
   },
   {
    "duration": 9,
    "start_time": "2021-07-19T18:45:06.704Z"
   },
   {
    "duration": 536,
    "start_time": "2021-07-19T18:45:07.125Z"
   },
   {
    "duration": 368,
    "start_time": "2021-07-19T18:45:11.381Z"
   },
   {
    "duration": 532,
    "start_time": "2021-07-19T18:45:13.595Z"
   },
   {
    "duration": 5,
    "start_time": "2021-07-19T18:45:17.236Z"
   },
   {
    "duration": 10,
    "start_time": "2021-07-19T18:45:17.892Z"
   },
   {
    "duration": 6,
    "start_time": "2021-07-19T18:45:18.438Z"
   },
   {
    "duration": 548,
    "start_time": "2021-07-19T18:45:19.091Z"
   },
   {
    "duration": 6,
    "start_time": "2021-07-19T18:45:22.960Z"
   },
   {
    "duration": 526,
    "start_time": "2021-07-19T18:45:23.464Z"
   },
   {
    "duration": 8,
    "start_time": "2021-07-19T18:45:27.854Z"
   },
   {
    "duration": 680,
    "start_time": "2021-07-19T18:45:28.238Z"
   },
   {
    "duration": 13,
    "start_time": "2021-07-19T18:45:32.641Z"
   },
   {
    "duration": 5,
    "start_time": "2021-07-19T18:45:35.987Z"
   },
   {
    "duration": 5,
    "start_time": "2021-07-19T18:45:36.265Z"
   },
   {
    "duration": 6,
    "start_time": "2021-07-19T18:45:36.710Z"
   },
   {
    "duration": 18,
    "start_time": "2021-07-19T18:45:37.121Z"
   },
   {
    "duration": 9,
    "start_time": "2021-07-19T18:45:37.497Z"
   },
   {
    "duration": 42,
    "start_time": "2021-07-19T18:45:37.943Z"
   },
   {
    "duration": 10,
    "start_time": "2021-07-19T18:45:38.460Z"
   },
   {
    "duration": 7,
    "start_time": "2021-07-19T18:45:41.411Z"
   },
   {
    "duration": 8,
    "start_time": "2021-07-19T18:45:42.019Z"
   },
   {
    "duration": 19,
    "start_time": "2021-07-19T18:46:18.804Z"
   },
   {
    "duration": 17,
    "start_time": "2021-07-19T18:46:22.604Z"
   },
   {
    "duration": 16,
    "start_time": "2021-07-19T18:46:23.309Z"
   },
   {
    "duration": 23,
    "start_time": "2021-07-19T18:46:40.611Z"
   },
   {
    "duration": 5,
    "start_time": "2021-07-19T18:46:55.066Z"
   },
   {
    "duration": 61329,
    "start_time": "2021-07-19T18:46:55.539Z"
   },
   {
    "duration": 10,
    "start_time": "2021-07-19T18:47:56.872Z"
   },
   {
    "duration": 8,
    "start_time": "2021-07-19T18:47:56.886Z"
   },
   {
    "duration": 14,
    "start_time": "2021-07-19T18:56:31.470Z"
   },
   {
    "duration": 6,
    "start_time": "2021-07-19T18:56:40.098Z"
   },
   {
    "duration": 6,
    "start_time": "2021-07-19T18:56:45.079Z"
   },
   {
    "duration": 4,
    "start_time": "2021-07-19T18:57:41.966Z"
   },
   {
    "duration": 706,
    "start_time": "2021-07-19T18:59:37.880Z"
   },
   {
    "duration": 10,
    "start_time": "2021-07-19T18:59:44.594Z"
   },
   {
    "duration": 7,
    "start_time": "2021-07-19T18:59:48.515Z"
   },
   {
    "duration": 1571,
    "start_time": "2021-07-20T06:11:10.382Z"
   },
   {
    "duration": 3,
    "start_time": "2021-07-20T06:11:15.083Z"
   },
   {
    "duration": 47,
    "start_time": "2021-07-20T06:11:20.599Z"
   },
   {
    "duration": 31,
    "start_time": "2021-07-20T06:11:21.578Z"
   },
   {
    "duration": 9,
    "start_time": "2021-07-20T06:11:22.785Z"
   },
   {
    "duration": 14,
    "start_time": "2021-07-20T06:11:27.726Z"
   },
   {
    "duration": 10,
    "start_time": "2021-07-20T06:11:30.737Z"
   },
   {
    "duration": 4,
    "start_time": "2021-07-20T06:11:33.412Z"
   },
   {
    "duration": 9,
    "start_time": "2021-07-20T06:11:35.547Z"
   },
   {
    "duration": 539,
    "start_time": "2021-07-20T06:11:36.012Z"
   },
   {
    "duration": 469,
    "start_time": "2021-07-20T06:11:42.056Z"
   },
   {
    "duration": 509,
    "start_time": "2021-07-20T06:11:45.648Z"
   },
   {
    "duration": 5,
    "start_time": "2021-07-20T06:11:54.435Z"
   },
   {
    "duration": 11,
    "start_time": "2021-07-20T06:11:55.650Z"
   },
   {
    "duration": 7,
    "start_time": "2021-07-20T06:11:56.542Z"
   },
   {
    "duration": 480,
    "start_time": "2021-07-20T06:11:57.127Z"
   },
   {
    "duration": 7,
    "start_time": "2021-07-20T06:12:00.703Z"
   },
   {
    "duration": 496,
    "start_time": "2021-07-20T06:12:01.150Z"
   },
   {
    "duration": 8,
    "start_time": "2021-07-20T06:12:05.684Z"
   },
   {
    "duration": 752,
    "start_time": "2021-07-20T06:12:06.127Z"
   },
   {
    "duration": 11,
    "start_time": "2021-07-20T06:12:10.284Z"
   },
   {
    "duration": 5,
    "start_time": "2021-07-20T06:12:13.496Z"
   },
   {
    "duration": 5,
    "start_time": "2021-07-20T06:12:14.012Z"
   },
   {
    "duration": 7,
    "start_time": "2021-07-20T06:12:14.558Z"
   },
   {
    "duration": 13,
    "start_time": "2021-07-20T06:12:15.570Z"
   },
   {
    "duration": 6,
    "start_time": "2021-07-20T06:12:16.484Z"
   },
   {
    "duration": 27,
    "start_time": "2021-07-20T06:12:17.447Z"
   },
   {
    "duration": 7,
    "start_time": "2021-07-20T06:12:18.449Z"
   },
   {
    "duration": 5,
    "start_time": "2021-07-20T06:12:24.470Z"
   },
   {
    "duration": 9,
    "start_time": "2021-07-20T06:12:25.010Z"
   },
   {
    "duration": 18,
    "start_time": "2021-07-20T06:12:28.582Z"
   },
   {
    "duration": 18,
    "start_time": "2021-07-20T06:12:29.278Z"
   },
   {
    "duration": 17,
    "start_time": "2021-07-20T06:12:29.884Z"
   },
   {
    "duration": 22,
    "start_time": "2021-07-20T06:12:30.718Z"
   },
   {
    "duration": 4,
    "start_time": "2021-07-20T06:12:39.701Z"
   },
   {
    "duration": 65772,
    "start_time": "2021-07-20T06:12:40.500Z"
   },
   {
    "duration": 9,
    "start_time": "2021-07-20T06:13:46.276Z"
   },
   {
    "duration": 10,
    "start_time": "2021-07-20T06:13:46.289Z"
   },
   {
    "duration": 12,
    "start_time": "2021-07-20T06:13:57.061Z"
   },
   {
    "duration": 5,
    "start_time": "2021-07-20T06:13:58.713Z"
   },
   {
    "duration": 7,
    "start_time": "2021-07-20T06:14:01.488Z"
   },
   {
    "duration": 4,
    "start_time": "2021-07-20T06:14:05.649Z"
   },
   {
    "duration": 4,
    "start_time": "2021-07-20T06:14:06.770Z"
   },
   {
    "duration": 453,
    "start_time": "2021-07-20T06:14:08.024Z"
   },
   {
    "duration": 5,
    "start_time": "2021-07-20T06:14:23.111Z"
   },
   {
    "duration": 27973,
    "start_time": "2021-07-20T06:14:31.355Z"
   },
   {
    "duration": 5,
    "start_time": "2021-07-20T06:15:06.242Z"
   },
   {
    "duration": 9,
    "start_time": "2021-07-20T06:15:13.816Z"
   },
   {
    "duration": 7,
    "start_time": "2021-07-20T06:15:15.848Z"
   },
   {
    "duration": 5,
    "start_time": "2021-07-20T06:16:29.425Z"
   },
   {
    "duration": 34416,
    "start_time": "2021-07-20T06:16:30.345Z"
   },
   {
    "duration": 394,
    "start_time": "2021-07-20T06:17:04.765Z"
   },
   {
    "duration": 6,
    "start_time": "2021-07-20T06:17:05.162Z"
   },
   {
    "duration": 13,
    "start_time": "2021-07-20T06:18:51.791Z"
   },
   {
    "duration": 5,
    "start_time": "2021-07-20T06:18:54.073Z"
   },
   {
    "duration": 8,
    "start_time": "2021-07-20T06:18:54.908Z"
   },
   {
    "duration": 299,
    "start_time": "2021-07-20T06:20:05.613Z"
   },
   {
    "duration": 4,
    "start_time": "2021-07-20T06:21:38.466Z"
   },
   {
    "duration": 297,
    "start_time": "2021-07-20T06:22:13.289Z"
   },
   {
    "duration": 4,
    "start_time": "2021-07-20T06:22:57.798Z"
   },
   {
    "duration": 6,
    "start_time": "2021-07-20T06:22:58.444Z"
   },
   {
    "duration": 1647,
    "start_time": "2021-07-21T04:25:07.901Z"
   },
   {
    "duration": 5,
    "start_time": "2021-07-21T04:25:09.551Z"
   },
   {
    "duration": 65,
    "start_time": "2021-07-21T04:25:09.559Z"
   },
   {
    "duration": 13,
    "start_time": "2021-07-21T04:25:09.627Z"
   },
   {
    "duration": 14,
    "start_time": "2021-07-21T04:25:09.642Z"
   },
   {
    "duration": 13,
    "start_time": "2021-07-21T04:25:09.659Z"
   },
   {
    "duration": 8,
    "start_time": "2021-07-21T04:25:09.675Z"
   },
   {
    "duration": 11,
    "start_time": "2021-07-21T04:25:09.687Z"
   },
   {
    "duration": 17,
    "start_time": "2021-07-21T04:25:09.701Z"
   },
   {
    "duration": 539,
    "start_time": "2021-07-21T04:25:09.720Z"
   },
   {
    "duration": 380,
    "start_time": "2021-07-21T04:25:10.261Z"
   },
   {
    "duration": 647,
    "start_time": "2021-07-21T04:25:10.643Z"
   },
   {
    "duration": 5,
    "start_time": "2021-07-21T04:25:11.293Z"
   },
   {
    "duration": 26,
    "start_time": "2021-07-21T04:25:11.300Z"
   },
   {
    "duration": 19,
    "start_time": "2021-07-21T04:25:11.328Z"
   },
   {
    "duration": 457,
    "start_time": "2021-07-21T04:25:11.349Z"
   },
   {
    "duration": 6,
    "start_time": "2021-07-21T04:25:11.809Z"
   },
   {
    "duration": 556,
    "start_time": "2021-07-21T04:25:11.817Z"
   },
   {
    "duration": 8,
    "start_time": "2021-07-21T04:25:12.376Z"
   },
   {
    "duration": 637,
    "start_time": "2021-07-21T04:25:12.386Z"
   },
   {
    "duration": 11,
    "start_time": "2021-07-21T04:25:13.025Z"
   },
   {
    "duration": 5,
    "start_time": "2021-07-21T04:25:13.056Z"
   },
   {
    "duration": 5,
    "start_time": "2021-07-21T04:25:13.067Z"
   },
   {
    "duration": 17,
    "start_time": "2021-07-21T04:25:13.076Z"
   },
   {
    "duration": 15,
    "start_time": "2021-07-21T04:25:13.096Z"
   },
   {
    "duration": 13,
    "start_time": "2021-07-21T04:25:13.114Z"
   },
   {
    "duration": 46,
    "start_time": "2021-07-21T04:25:13.129Z"
   },
   {
    "duration": 7,
    "start_time": "2021-07-21T04:25:13.178Z"
   },
   {
    "duration": 10,
    "start_time": "2021-07-21T04:25:13.187Z"
   },
   {
    "duration": 29,
    "start_time": "2021-07-21T04:25:13.199Z"
   },
   {
    "duration": 34,
    "start_time": "2021-07-21T04:25:13.230Z"
   },
   {
    "duration": 15,
    "start_time": "2021-07-21T04:25:13.266Z"
   },
   {
    "duration": 16,
    "start_time": "2021-07-21T04:25:13.284Z"
   },
   {
    "duration": 26,
    "start_time": "2021-07-21T04:25:13.303Z"
   },
   {
    "duration": 24,
    "start_time": "2021-07-21T04:25:13.332Z"
   },
   {
    "duration": 95342,
    "start_time": "2021-07-21T04:25:13.358Z"
   },
   {
    "duration": 10,
    "start_time": "2021-07-21T04:26:48.703Z"
   },
   {
    "duration": 7,
    "start_time": "2021-07-21T04:26:48.715Z"
   },
   {
    "duration": 4,
    "start_time": "2021-07-21T04:26:48.756Z"
   },
   {
    "duration": 4,
    "start_time": "2021-07-21T04:26:48.762Z"
   },
   {
    "duration": 5,
    "start_time": "2021-07-21T04:26:48.769Z"
   },
   {
    "duration": 13,
    "start_time": "2021-07-21T04:26:48.777Z"
   },
   {
    "duration": 67,
    "start_time": "2021-07-21T04:26:48.793Z"
   },
   {
    "duration": 11,
    "start_time": "2021-07-21T04:26:48.863Z"
   },
   {
    "duration": 4,
    "start_time": "2021-07-21T04:26:48.878Z"
   },
   {
    "duration": 3,
    "start_time": "2021-07-21T04:26:48.958Z"
   },
   {
    "duration": 7,
    "start_time": "2021-07-21T04:26:48.965Z"
   },
   {
    "duration": 63533,
    "start_time": "2021-07-21T04:26:48.974Z"
   },
   {
    "duration": 5,
    "start_time": "2021-07-21T04:27:52.509Z"
   },
   {
    "duration": 9,
    "start_time": "2021-07-21T04:27:52.517Z"
   },
   {
    "duration": 33,
    "start_time": "2021-07-21T04:27:52.529Z"
   },
   {
    "duration": 8,
    "start_time": "2021-07-21T04:27:52.565Z"
   },
   {
    "duration": 8,
    "start_time": "2021-07-21T04:27:52.575Z"
   },
   {
    "duration": 35277,
    "start_time": "2021-07-21T04:27:52.585Z"
   },
   {
    "duration": 387,
    "start_time": "2021-07-21T04:28:27.865Z"
   },
   {
    "duration": 7,
    "start_time": "2021-07-21T04:28:28.255Z"
   },
   {
    "duration": 11,
    "start_time": "2021-07-21T04:28:28.264Z"
   },
   {
    "duration": 5,
    "start_time": "2021-07-21T04:28:28.277Z"
   },
   {
    "duration": 9,
    "start_time": "2021-07-21T04:28:28.284Z"
   },
   {
    "duration": 8,
    "start_time": "2021-07-21T04:28:28.295Z"
   },
   {
    "duration": 54,
    "start_time": "2021-07-21T04:28:28.305Z"
   }
  ],
  "kernelspec": {
   "display_name": "Python 3",
   "language": "python",
   "name": "python3"
  },
  "language_info": {
   "codemirror_mode": {
    "name": "ipython",
    "version": 3
   },
   "file_extension": ".py",
   "mimetype": "text/x-python",
   "name": "python",
   "nbconvert_exporter": "python",
   "pygments_lexer": "ipython3",
   "version": "3.8.5"
  },
  "toc": {
   "base_numbering": 1,
   "nav_menu": {},
   "number_sections": true,
   "sideBar": true,
   "skip_h1_title": true,
   "title_cell": "Содержание",
   "title_sidebar": "Contents",
   "toc_cell": true,
   "toc_position": {},
   "toc_section_display": true,
   "toc_window_display": false
  }
 },
 "nbformat": 4,
 "nbformat_minor": 2
}
